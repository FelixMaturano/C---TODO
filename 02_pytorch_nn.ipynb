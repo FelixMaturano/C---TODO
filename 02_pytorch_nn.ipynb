{
  "cells": [
    {
      "cell_type": "markdown",
      "metadata": {
        "id": "view-in-github",
        "colab_type": "text"
      },
      "source": [
        "<a href=\"https://colab.research.google.com/github/FelixMaturano/C---TODO/blob/master/02_pytorch_nn.ipynb\" target=\"_parent\"><img src=\"https://colab.research.google.com/assets/colab-badge.svg\" alt=\"Open In Colab\"/></a>"
      ]
    },
    {
      "cell_type": "markdown",
      "metadata": {
        "id": "pE_iwdR5m6xH"
      },
      "source": [
        "[![Open In Colab](https://colab.research.google.com/assets/colab-badge.svg)](https://colab.research.google.com/github/sensioai/blog/blob/master/028_pytorch_nn/pytorch_nn.ipynb)"
      ]
    },
    {
      "cell_type": "markdown",
      "metadata": {
        "id": "DjhgRWO_m6xK"
      },
      "source": [
        "# Pytorch - Redes Neuronales"
      ]
    },
    {
      "cell_type": "markdown",
      "metadata": {
        "id": "CVNrcQ_5m6xK"
      },
      "source": [
        "En el post [anterior](https://sensioai.com/blog/027_pytorch_intro) hicimos una introducción al framework de `redes neuronales` `Pytorch`. Hablamos de sus tres elementos fundamentales: el objeto `tensor` (similar al `array` de `NumPy`) `autograd` (que nos permite calcular derivadas de manera automáticas) y el soporte GPU. En este post vamos a entrar en detalle en la  funcionalidad que nos ofrece la librería para diseñar redes neuronales de manera flexible."
      ]
    },
    {
      "cell_type": "code",
      "execution_count": null,
      "metadata": {
        "ExecuteTime": {
          "end_time": "2020-08-15T12:21:45.471625Z",
          "start_time": "2020-08-15T12:21:45.002765Z"
        },
        "id": "4hnzhQywm6xL"
      },
      "outputs": [],
      "source": [
        "import torch"
      ]
    },
    {
      "cell_type": "markdown",
      "metadata": {
        "heading_collapsed": true,
        "id": "IqUKyQ9Nm6xM"
      },
      "source": [
        "## Modelos secuenciales"
      ]
    },
    {
      "cell_type": "markdown",
      "metadata": {
        "hidden": true,
        "id": "MDSz2Mbsm6xM"
      },
      "source": [
        "La forma más sencilla de definir una `red neuronal` en `Pytorch` es utilizando la clase `Sequentail`. Esta clase nos permite definir una secuencia de capas, que se aplicarán de manera secuencial (las salidas de una capa serán la entrada de la siguiente). Ésto ya lo conocemos de posts anteriores, ya que es la forma ideal de definir un `Perceptrón Multicapa`."
      ]
    },
    {
      "cell_type": "code",
      "execution_count": null,
      "metadata": {
        "ExecuteTime": {
          "end_time": "2020-08-15T12:21:45.486329Z",
          "start_time": "2020-08-15T12:21:45.472624Z"
        },
        "hidden": true,
        "id": "V5KEpUHVm6xN"
      },
      "outputs": [],
      "source": [
        "# D_in, H, D_out = 784, 100, 10\n",
        "\n",
        "# model = torch.nn.Sequential(\n",
        "#     torch.nn.Linear(D_in, H),\n",
        "#     torch.nn.ReLU(),\n",
        "#     torch.nn.Linear(H, D_out),\n",
        "# )\n",
        "\n",
        "D_in, H1, H2, D_out = 784, 100, 50, 10\n",
        "model = torch.nn.Sequential(\n",
        "    torch.nn.Linear(D_in, H1),\n",
        "    torch.nn.ReLU(),\n",
        "    torch.nn.Linear(H1, H2),\n",
        "    torch.nn.ReLU(),\n",
        "    torch.nn.Linear(H2, D_out),\n",
        ")\n"
      ]
    },
    {
      "cell_type": "markdown",
      "metadata": {
        "hidden": true,
        "id": "8Ea8TfSWm6xO"
      },
      "source": [
        "El modelo anterior es un `MLP` con 784 entradas, 100 neuronas en la capa oculta y 10 salidas. Podemos usar este modelo para hacer un clasificador de imágenes con el dataset MNIST. Pero primero, vamos a ver como podemos calcular las salidas del modelo a partir de unas entradas de ejemplo."
      ]
    },
    {
      "cell_type": "code",
      "execution_count": null,
      "metadata": {
        "ExecuteTime": {
          "end_time": "2020-08-15T12:21:45.502329Z",
          "start_time": "2020-08-15T12:21:45.487329Z"
        },
        "hidden": true,
        "id": "WVB30MPem6xO",
        "outputId": "9e9a1ba9-b453-459e-a7c5-52444d67c9aa",
        "colab": {
          "base_uri": "https://localhost:8080/"
        }
      },
      "outputs": [
        {
          "output_type": "execute_result",
          "data": {
            "text/plain": [
              "torch.Size([600, 10])"
            ]
          },
          "metadata": {},
          "execution_count": 34
        }
      ],
      "source": [
        "outputs = model(torch.randn(600, 784))\n",
        "outputs.shape"
      ]
    },
    {
      "cell_type": "code",
      "source": [
        "print(outputs[0][:])"
      ],
      "metadata": {
        "colab": {
          "base_uri": "https://localhost:8080/"
        },
        "id": "x7mk9EVzLeBV",
        "outputId": "9874dcc8-5088-45f0-c1e1-5e9493f46c35"
      },
      "execution_count": null,
      "outputs": [
        {
          "output_type": "stream",
          "name": "stdout",
          "text": [
            "tensor([ 0.0792,  0.0338,  0.0941, -0.1050,  0.0973,  0.0971,  0.1367, -0.0140,\n",
            "         0.0007, -0.1859], grad_fn=<SliceBackward0>)\n"
          ]
        }
      ]
    },
    {
      "cell_type": "markdown",
      "metadata": {
        "hidden": true,
        "id": "I-J9Sa6Qm6xP"
      },
      "source": [
        "Como puedes ver, simplemente le pasamos los inputs al modelo (llamándolo como una función). En este caso, usamos un tensor con 64 vectores de 784 valores. Es importante remarcar que los modelos de `Pytorch` (por lo general) siempre esperan que la primera dimensión sea la dimensión *batch*. Si queremos entrenar esta red en una GPU, es tan sencillo como"
      ]
    },
    {
      "cell_type": "code",
      "source": [
        "model"
      ],
      "metadata": {
        "colab": {
          "base_uri": "https://localhost:8080/"
        },
        "id": "hSs12izZ97se",
        "outputId": "03690d59-4024-49d5-825f-fd12e5fad820"
      },
      "execution_count": null,
      "outputs": [
        {
          "output_type": "execute_result",
          "data": {
            "text/plain": [
              "Sequential(\n",
              "  (0): Linear(in_features=784, out_features=100, bias=True)\n",
              "  (1): ReLU()\n",
              "  (2): Linear(in_features=100, out_features=50, bias=True)\n",
              "  (3): ReLU()\n",
              "  (4): Linear(in_features=50, out_features=10, bias=True)\n",
              ")"
            ]
          },
          "metadata": {},
          "execution_count": 36
        }
      ]
    },
    {
      "cell_type": "code",
      "execution_count": null,
      "metadata": {
        "ExecuteTime": {
          "end_time": "2020-08-15T12:21:46.777020Z",
          "start_time": "2020-08-15T12:21:45.503329Z"
        },
        "hidden": true,
        "id": "VjtJxIM_m6xQ",
        "outputId": "52ba5a77-0a82-4094-e4c4-5e7b6d2fd48d",
        "colab": {
          "base_uri": "https://localhost:8080/"
        }
      },
      "outputs": [
        {
          "output_type": "execute_result",
          "data": {
            "text/plain": [
              "Sequential(\n",
              "  (0): Linear(in_features=784, out_features=100, bias=True)\n",
              "  (1): ReLU()\n",
              "  (2): Linear(in_features=100, out_features=50, bias=True)\n",
              "  (3): ReLU()\n",
              "  (4): Linear(in_features=50, out_features=10, bias=True)\n",
              ")"
            ]
          },
          "metadata": {},
          "execution_count": 37
        }
      ],
      "source": [
        "model.to(\"cuda\")"
      ]
    },
    {
      "cell_type": "markdown",
      "metadata": {
        "hidden": true,
        "id": "ZxmpSqz6m6xQ"
      },
      "source": [
        "Vamos a ver ahora como entrenar este modelo con el dataset MNIST."
      ]
    },
    {
      "cell_type": "code",
      "execution_count": null,
      "metadata": {
        "ExecuteTime": {
          "end_time": "2020-08-15T12:22:05.622262Z",
          "start_time": "2020-08-15T12:21:46.778019Z"
        },
        "hidden": true,
        "id": "OmlXe8Gpm6xR",
        "outputId": "5d91979d-7098-4baf-8e76-25d720b9fcd1",
        "colab": {
          "base_uri": "https://localhost:8080/"
        }
      },
      "outputs": [
        {
          "output_type": "execute_result",
          "data": {
            "text/plain": [
              "((70000, 784), (70000,))"
            ]
          },
          "metadata": {},
          "execution_count": 38
        }
      ],
      "source": [
        "from sklearn.datasets import fetch_openml\n",
        "\n",
        "# descarga datos\n",
        "\n",
        "mnist = fetch_openml('mnist_784', version=1)\n",
        "X, Y = mnist[\"data\"], mnist[\"target\"]\n",
        "\n",
        "X.shape, Y.shape"
      ]
    },
    {
      "cell_type": "code",
      "execution_count": null,
      "metadata": {
        "ExecuteTime": {
          "end_time": "2020-08-15T12:22:05.761911Z",
          "start_time": "2020-08-15T12:22:05.624102Z"
        },
        "hidden": true,
        "id": "BzhE25udm6xR"
      },
      "outputs": [],
      "source": [
        "# import numpy as np\n",
        "\n",
        "# normalización y split\n",
        "import numpy as np\n",
        "x_2=np.array(X)\n",
        "y_2=np.array(Y)\n",
        "\n",
        "# normalización y split\n",
        "\n",
        "X_train =x_2[:60000] / 255.\n",
        "X_test =x_2[60000:] / 255.\n",
        "y_train = y_2[:60000].astype(np.int32)\n",
        "y_test = y_2[60000:].astype(np.int32)\n",
        "\n",
        "\n",
        "\n",
        "# X_train, X_test, y_train, y_test = X[:60000] / 255., X[60000:] / 255., Y[:60000].astype(np.float32), Y[60000:].astype(np.float32)"
      ]
    },
    {
      "cell_type": "code",
      "execution_count": null,
      "metadata": {
        "ExecuteTime": {
          "end_time": "2020-08-15T12:22:05.777964Z",
          "start_time": "2020-08-15T12:22:05.763102Z"
        },
        "hidden": true,
        "id": "pDJK07Jpm6xR"
      },
      "outputs": [],
      "source": [
        "# función de pérdida y derivada\n",
        "\n",
        "def softmax(x):\n",
        "    return torch.exp(x) / torch.exp(x).sum(axis=-1,keepdims=True)\n",
        "\n",
        "def cross_entropy(output, target):\n",
        "    logits = output[torch.arange(len(output)), target]\n",
        "    loss = - logits + torch.log(torch.sum(torch.exp(output), axis=-1))\n",
        "    loss = loss.mean()\n",
        "    return loss"
      ]
    },
    {
      "cell_type": "code",
      "source": [
        "# X_train"
      ],
      "metadata": {
        "id": "E0mXU4_t5c-n"
      },
      "execution_count": null,
      "outputs": []
    },
    {
      "cell_type": "code",
      "source": [
        "torch.cuda.is_available()"
      ],
      "metadata": {
        "colab": {
          "base_uri": "https://localhost:8080/"
        },
        "id": "qHL3LiGejvr0",
        "outputId": "f9572616-0d55-435c-e1ec-0661012c28d5"
      },
      "execution_count": null,
      "outputs": [
        {
          "output_type": "execute_result",
          "data": {
            "text/plain": [
              "True"
            ]
          },
          "metadata": {},
          "execution_count": 41
        }
      ]
    },
    {
      "cell_type": "code",
      "source": [
        "print(X)"
      ],
      "metadata": {
        "id": "tZCJjxDZyenK",
        "colab": {
          "base_uri": "https://localhost:8080/"
        },
        "outputId": "bc12d845-ec75-4bdc-ee11-356f9a392997"
      },
      "execution_count": null,
      "outputs": [
        {
          "output_type": "stream",
          "name": "stdout",
          "text": [
            "       pixel1  pixel2  pixel3  pixel4  pixel5  pixel6  pixel7  pixel8  pixel9  \\\n",
            "0           0       0       0       0       0       0       0       0       0   \n",
            "1           0       0       0       0       0       0       0       0       0   \n",
            "2           0       0       0       0       0       0       0       0       0   \n",
            "3           0       0       0       0       0       0       0       0       0   \n",
            "4           0       0       0       0       0       0       0       0       0   \n",
            "...       ...     ...     ...     ...     ...     ...     ...     ...     ...   \n",
            "69995       0       0       0       0       0       0       0       0       0   \n",
            "69996       0       0       0       0       0       0       0       0       0   \n",
            "69997       0       0       0       0       0       0       0       0       0   \n",
            "69998       0       0       0       0       0       0       0       0       0   \n",
            "69999       0       0       0       0       0       0       0       0       0   \n",
            "\n",
            "       pixel10  ...  pixel775  pixel776  pixel777  pixel778  pixel779  \\\n",
            "0            0  ...         0         0         0         0         0   \n",
            "1            0  ...         0         0         0         0         0   \n",
            "2            0  ...         0         0         0         0         0   \n",
            "3            0  ...         0         0         0         0         0   \n",
            "4            0  ...         0         0         0         0         0   \n",
            "...        ...  ...       ...       ...       ...       ...       ...   \n",
            "69995        0  ...         0         0         0         0         0   \n",
            "69996        0  ...         0         0         0         0         0   \n",
            "69997        0  ...         0         0         0         0         0   \n",
            "69998        0  ...         0         0         0         0         0   \n",
            "69999        0  ...         0         0         0         0         0   \n",
            "\n",
            "       pixel780  pixel781  pixel782  pixel783  pixel784  \n",
            "0             0         0         0         0         0  \n",
            "1             0         0         0         0         0  \n",
            "2             0         0         0         0         0  \n",
            "3             0         0         0         0         0  \n",
            "4             0         0         0         0         0  \n",
            "...         ...       ...       ...       ...       ...  \n",
            "69995         0         0         0         0         0  \n",
            "69996         0         0         0         0         0  \n",
            "69997         0         0         0         0         0  \n",
            "69998         0         0         0         0         0  \n",
            "69999         0         0         0         0         0  \n",
            "\n",
            "[70000 rows x 784 columns]\n"
          ]
        }
      ]
    },
    {
      "cell_type": "code",
      "execution_count": null,
      "metadata": {
        "ExecuteTime": {
          "end_time": "2020-08-15T12:22:07.268014Z",
          "start_time": "2020-08-15T12:22:05.778966Z"
        },
        "hidden": true,
        "id": "EjdhOJ90m6xS",
        "outputId": "873b393a-1d6c-44c8-c972-598e22310d70",
        "colab": {
          "base_uri": "https://localhost:8080/"
        }
      },
      "outputs": [
        {
          "output_type": "stream",
          "name": "stdout",
          "text": [
            "Epoch 10/350 Loss 2.06514\n",
            "Epoch 20/350 Loss 2.06357\n",
            "Epoch 30/350 Loss 1.93566\n",
            "Epoch 40/350 Loss 1.73623\n",
            "Epoch 50/350 Loss 1.54942\n",
            "Epoch 60/350 Loss 1.39333\n",
            "Epoch 70/350 Loss 1.26210\n",
            "Epoch 80/350 Loss 1.15828\n",
            "Epoch 90/350 Loss 1.06748\n",
            "Epoch 100/350 Loss 0.99519\n",
            "Epoch 110/350 Loss 0.93133\n",
            "Epoch 120/350 Loss 0.88082\n",
            "Epoch 130/350 Loss 0.83544\n",
            "Epoch 140/350 Loss 0.79244\n",
            "Epoch 150/350 Loss 0.75640\n",
            "Epoch 160/350 Loss 0.72562\n",
            "Epoch 170/350 Loss 0.69497\n",
            "Epoch 180/350 Loss 0.67293\n",
            "Epoch 190/350 Loss 0.64872\n",
            "Epoch 200/350 Loss 0.62534\n",
            "Epoch 210/350 Loss 0.60378\n",
            "Epoch 220/350 Loss 0.58391\n",
            "Epoch 230/350 Loss 0.56655\n",
            "Epoch 240/350 Loss 0.55265\n",
            "Epoch 250/350 Loss 0.53667\n",
            "Epoch 260/350 Loss 0.52166\n",
            "Epoch 270/350 Loss 0.50758\n",
            "Epoch 280/350 Loss 0.49434\n",
            "Epoch 290/350 Loss 0.48188\n",
            "Epoch 300/350 Loss 0.47011\n",
            "Epoch 310/350 Loss 0.45901\n",
            "Epoch 320/350 Loss 0.44882\n",
            "Epoch 330/350 Loss 0.47321\n",
            "Epoch 340/350 Loss 0.49810\n",
            "Epoch 350/350 Loss 0.50058\n"
          ]
        }
      ],
      "source": [
        "# convertimos datos a tensores y copiamos en gpu\n",
        "\n",
        "X_t = torch.from_numpy(X_train).float().cuda()\n",
        "Y_t = torch.from_numpy(y_train).long().cuda()\n",
        "\n",
        "# bucle entrenamiento\n",
        "epochs = 350\n",
        "lr = 0.8\n",
        "log_each = 10\n",
        "l = []\n",
        "for e in range(1, epochs + 1):\n",
        "\n",
        "    # forward\n",
        "    y_pred = model(X_t)\n",
        "\n",
        "    # loss\n",
        "    loss = cross_entropy(y_pred, Y_t)\n",
        "    l.append(loss.item())\n",
        "\n",
        "    # ponemos a cero los gradientes\n",
        "    model.zero_grad()\n",
        "\n",
        "    # Backprop (calculamos todos los gradientes automáticamente)\n",
        "    loss.backward()\n",
        "\n",
        "    # update de los pesos\n",
        "    with torch.no_grad():\n",
        "        for param in model.parameters():\n",
        "            param -= lr * param.grad\n",
        "\n",
        "    if not e % log_each:\n",
        "        print(f\"Epoch {e}/{epochs} Loss {np.mean(l):.5f}\")"
      ]
    },
    {
      "cell_type": "markdown",
      "metadata": {
        "hidden": true,
        "id": "5tCiIuSvm6xT"
      },
      "source": [
        "Como puedes observar en el ejemplo, podemos calcular la salida del modelo con una simple línea. Luego calculamos la función de pérdida, y llamando a la función `backward` `Pytorch` se encarga de calcular las derivadas de la misma con respecto a todos los parámetros del modelo automáticamente (si no queremos acumular estos gradientes, nos aseguramos de llamar a la función `zero_grad` para ponerlos a cero antes de calcularlos). Por útlimo, podemos iterar por los parámetros del modelo aplicando la regla de actualización deseada (en este caso usamos `descenso por gradiente`)."
      ]
    },
    {
      "cell_type": "code",
      "execution_count": null,
      "metadata": {
        "ExecuteTime": {
          "end_time": "2020-08-15T12:22:07.312014Z",
          "start_time": "2020-08-15T12:22:07.270016Z"
        },
        "hidden": true,
        "id": "Ufomq0IIm6xT",
        "colab": {
          "base_uri": "https://localhost:8080/"
        },
        "outputId": "211f413a-d2a4-46b7-fc6f-cd0dff536875"
      },
      "outputs": [
        {
          "output_type": "execute_result",
          "data": {
            "text/plain": [
              "0.8948"
            ]
          },
          "metadata": {},
          "execution_count": 14
        }
      ],
      "source": [
        "from sklearn.metrics import accuracy_score\n",
        "\n",
        "def evaluate(x):\n",
        "    model.eval()\n",
        "    y_pred = model(x)\n",
        "    y_probas = softmax(y_pred)\n",
        "    return torch.argmax(y_probas, axis=1)\n",
        "\n",
        "y_pred = evaluate(torch.from_numpy(X_test).float().cuda())\n",
        "accuracy_score(y_test, y_pred.cpu().numpy())"
      ]
    },
    {
      "cell_type": "markdown",
      "metadata": {
        "hidden": true,
        "id": "lafBMelim6xT"
      },
      "source": [
        "Existen algunos tipos de capas que se comportan diferente en función de si estamos entrenando la red o usándola para generar predicciones. Podemos controlar el modo en el que queremos que esté nuestra red con las funciones `train` y `eval`."
      ]
    },
    {
      "cell_type": "markdown",
      "metadata": {
        "heading_collapsed": true,
        "id": "bQJhUWy2m6xT"
      },
      "source": [
        "## Optimizadores y Funciones de pérdida"
      ]
    },
    {
      "cell_type": "markdown",
      "metadata": {
        "hidden": true,
        "id": "wnj54ahUm6xU"
      },
      "source": [
        "En el ejemplo anterior hemos calculado la función de pérdida y aplicado la regla de optimización de forma manual. Sin embargo, `Pytorch` nos ofrece funcionalidad que nos abstrae estos cálculos ofreciendo además flexibilidad para aplicar diferentes funciones de pérdida o algoritmos de optimización de manera sencilla. Podemos encontrar diferentes funciones de pérdida ya implementadas en el paquete `torch.nn`."
      ]
    },
    {
      "cell_type": "code",
      "execution_count": null,
      "metadata": {
        "ExecuteTime": {
          "end_time": "2020-08-15T12:22:07.328014Z",
          "start_time": "2020-08-15T12:22:07.313014Z"
        },
        "hidden": true,
        "id": "8ZmyhLd5m6xU"
      },
      "outputs": [],
      "source": [
        "criterion = torch.nn.CrossEntropyLoss()"
      ]
    },
    {
      "cell_type": "markdown",
      "metadata": {
        "hidden": true,
        "id": "Yz70Aprzm6xU"
      },
      "source": [
        "Mientras que los optimizadores se encuentran en el paquete `torch.optim`"
      ]
    },
    {
      "cell_type": "code",
      "execution_count": null,
      "metadata": {
        "ExecuteTime": {
          "end_time": "2020-08-15T12:22:07.343013Z",
          "start_time": "2020-08-15T12:22:07.330016Z"
        },
        "hidden": true,
        "id": "X8-BU1mbm6xU"
      },
      "outputs": [],
      "source": [
        "optimizer = torch.optim.SGD(model.parameters(), lr=0.8)"
      ]
    },
    {
      "cell_type": "markdown",
      "metadata": {
        "hidden": true,
        "id": "GmOzqwGXm6xV"
      },
      "source": [
        "Puedes ver la lista completa de funciones de pérdida y optimizadores disponibles en la [documentación](https://pytorch.org/docs/stable/index.html), aunque como ya has visto siempre puedes definir los tuyos propios fácilmente.\n",
        "\n",
        "Una vez definidos estos dos objetos, nuestro bucle de entrenamiento se simplifica considerablemente."
      ]
    },
    {
      "cell_type": "code",
      "execution_count": null,
      "metadata": {
        "ExecuteTime": {
          "end_time": "2020-08-15T12:22:08.626592Z",
          "start_time": "2020-08-15T12:22:07.344013Z"
        },
        "code_folding": [
          0
        ],
        "hidden": true,
        "id": "oz7CgSjum6xV",
        "colab": {
          "base_uri": "https://localhost:8080/"
        },
        "outputId": "7d28f5c9-a00d-494e-8442-4fe25898caa0"
      },
      "outputs": [
        {
          "output_type": "stream",
          "name": "stdout",
          "text": [
            "Epoch 10/1500 Loss 1.74943\n",
            "Epoch 20/1500 Loss 1.46122\n",
            "Epoch 30/1500 Loss 1.20877\n",
            "Epoch 40/1500 Loss 1.03928\n",
            "Epoch 50/1500 Loss 0.91407\n",
            "Epoch 60/1500 Loss 0.81729\n",
            "Epoch 70/1500 Loss 0.74464\n",
            "Epoch 80/1500 Loss 0.68873\n",
            "Epoch 90/1500 Loss 0.64303\n",
            "Epoch 100/1500 Loss 0.60528\n",
            "Epoch 110/1500 Loss 0.57375\n",
            "Epoch 120/1500 Loss 0.54602\n",
            "Epoch 130/1500 Loss 0.52166\n",
            "Epoch 140/1500 Loss 0.50021\n",
            "Epoch 150/1500 Loss 0.48115\n",
            "Epoch 160/1500 Loss 0.46407\n",
            "Epoch 170/1500 Loss 0.44864\n",
            "Epoch 180/1500 Loss 0.43463\n",
            "Epoch 190/1500 Loss 0.42181\n",
            "Epoch 200/1500 Loss 0.41003\n",
            "Epoch 210/1500 Loss 0.39915\n",
            "Epoch 220/1500 Loss 0.38906\n",
            "Epoch 230/1500 Loss 0.37967\n",
            "Epoch 240/1500 Loss 0.37089\n",
            "Epoch 250/1500 Loss 0.36267\n",
            "Epoch 260/1500 Loss 0.35493\n",
            "Epoch 270/1500 Loss 0.34764\n",
            "Epoch 280/1500 Loss 0.34076\n",
            "Epoch 290/1500 Loss 0.33424\n",
            "Epoch 300/1500 Loss 0.32805\n",
            "Epoch 310/1500 Loss 0.32217\n",
            "Epoch 320/1500 Loss 0.31656\n",
            "Epoch 330/1500 Loss 0.31122\n",
            "Epoch 340/1500 Loss 0.30611\n",
            "Epoch 350/1500 Loss 0.30122\n",
            "Epoch 360/1500 Loss 0.29654\n",
            "Epoch 370/1500 Loss 0.29204\n",
            "Epoch 380/1500 Loss 0.28772\n",
            "Epoch 390/1500 Loss 0.28357\n",
            "Epoch 400/1500 Loss 0.27957\n",
            "Epoch 410/1500 Loss 0.27572\n",
            "Epoch 420/1500 Loss 0.27200\n",
            "Epoch 430/1500 Loss 0.26841\n",
            "Epoch 440/1500 Loss 0.26494\n",
            "Epoch 450/1500 Loss 0.26158\n",
            "Epoch 460/1500 Loss 0.25833\n",
            "Epoch 470/1500 Loss 0.25519\n",
            "Epoch 480/1500 Loss 0.25214\n",
            "Epoch 490/1500 Loss 0.24918\n",
            "Epoch 500/1500 Loss 0.24631\n",
            "Epoch 510/1500 Loss 0.24352\n",
            "Epoch 520/1500 Loss 0.24081\n",
            "Epoch 530/1500 Loss 0.23817\n",
            "Epoch 540/1500 Loss 0.23561\n",
            "Epoch 550/1500 Loss 0.23312\n",
            "Epoch 560/1500 Loss 0.23069\n",
            "Epoch 570/1500 Loss 0.22832\n",
            "Epoch 580/1500 Loss 0.22601\n",
            "Epoch 590/1500 Loss 0.22376\n",
            "Epoch 600/1500 Loss 0.22157\n",
            "Epoch 610/1500 Loss 0.21942\n",
            "Epoch 620/1500 Loss 0.21733\n",
            "Epoch 630/1500 Loss 0.21529\n",
            "Epoch 640/1500 Loss 0.21329\n",
            "Epoch 650/1500 Loss 0.21134\n",
            "Epoch 660/1500 Loss 0.20943\n",
            "Epoch 670/1500 Loss 0.20756\n",
            "Epoch 680/1500 Loss 0.20574\n",
            "Epoch 690/1500 Loss 0.20395\n",
            "Epoch 700/1500 Loss 0.20220\n",
            "Epoch 710/1500 Loss 0.20048\n",
            "Epoch 720/1500 Loss 0.19880\n",
            "Epoch 730/1500 Loss 0.19716\n",
            "Epoch 740/1500 Loss 0.19554\n",
            "Epoch 750/1500 Loss 0.19396\n",
            "Epoch 760/1500 Loss 0.19241\n",
            "Epoch 770/1500 Loss 0.19089\n",
            "Epoch 780/1500 Loss 0.18939\n",
            "Epoch 790/1500 Loss 0.18793\n",
            "Epoch 800/1500 Loss 0.18649\n",
            "Epoch 810/1500 Loss 0.18508\n",
            "Epoch 820/1500 Loss 0.18369\n",
            "Epoch 830/1500 Loss 0.18232\n",
            "Epoch 840/1500 Loss 0.18098\n",
            "Epoch 850/1500 Loss 0.17967\n",
            "Epoch 860/1500 Loss 0.17837\n",
            "Epoch 870/1500 Loss 0.17710\n",
            "Epoch 880/1500 Loss 0.17585\n",
            "Epoch 890/1500 Loss 0.17462\n",
            "Epoch 900/1500 Loss 0.17341\n",
            "Epoch 910/1500 Loss 0.17222\n",
            "Epoch 920/1500 Loss 0.17105\n",
            "Epoch 930/1500 Loss 0.16989\n",
            "Epoch 940/1500 Loss 0.16876\n",
            "Epoch 950/1500 Loss 0.16764\n",
            "Epoch 960/1500 Loss 0.16654\n",
            "Epoch 970/1500 Loss 0.16546\n",
            "Epoch 980/1500 Loss 0.16439\n",
            "Epoch 990/1500 Loss 0.16334\n",
            "Epoch 1000/1500 Loss 0.16230\n",
            "Epoch 1010/1500 Loss 0.16128\n",
            "Epoch 1020/1500 Loss 0.16028\n",
            "Epoch 1030/1500 Loss 0.15928\n",
            "Epoch 1040/1500 Loss 0.15831\n",
            "Epoch 1050/1500 Loss 0.15734\n",
            "Epoch 1060/1500 Loss 0.15639\n",
            "Epoch 1070/1500 Loss 0.15545\n",
            "Epoch 1080/1500 Loss 0.15453\n",
            "Epoch 1090/1500 Loss 0.15362\n",
            "Epoch 1100/1500 Loss 0.15272\n",
            "Epoch 1110/1500 Loss 0.15183\n",
            "Epoch 1120/1500 Loss 0.15096\n",
            "Epoch 1130/1500 Loss 0.15009\n",
            "Epoch 1140/1500 Loss 0.14924\n",
            "Epoch 1150/1500 Loss 0.14840\n",
            "Epoch 1160/1500 Loss 0.14756\n",
            "Epoch 1170/1500 Loss 0.14674\n",
            "Epoch 1180/1500 Loss 0.14593\n",
            "Epoch 1190/1500 Loss 0.14513\n",
            "Epoch 1200/1500 Loss 0.14434\n",
            "Epoch 1210/1500 Loss 0.14356\n",
            "Epoch 1220/1500 Loss 0.14279\n",
            "Epoch 1230/1500 Loss 0.14203\n",
            "Epoch 1240/1500 Loss 0.14127\n",
            "Epoch 1250/1500 Loss 0.14053\n",
            "Epoch 1260/1500 Loss 0.13979\n",
            "Epoch 1270/1500 Loss 0.13907\n",
            "Epoch 1280/1500 Loss 0.13835\n",
            "Epoch 1290/1500 Loss 0.13764\n",
            "Epoch 1300/1500 Loss 0.13694\n",
            "Epoch 1310/1500 Loss 0.13624\n",
            "Epoch 1320/1500 Loss 0.13556\n",
            "Epoch 1330/1500 Loss 0.13488\n",
            "Epoch 1340/1500 Loss 0.13421\n",
            "Epoch 1350/1500 Loss 0.13354\n",
            "Epoch 1360/1500 Loss 0.13289\n",
            "Epoch 1370/1500 Loss 0.13224\n",
            "Epoch 1380/1500 Loss 0.13159\n",
            "Epoch 1390/1500 Loss 0.13096\n",
            "Epoch 1400/1500 Loss 0.13033\n",
            "Epoch 1410/1500 Loss 0.12971\n",
            "Epoch 1420/1500 Loss 0.12909\n",
            "Epoch 1430/1500 Loss 0.12848\n",
            "Epoch 1440/1500 Loss 0.12788\n",
            "Epoch 1450/1500 Loss 0.12728\n",
            "Epoch 1460/1500 Loss 0.12669\n",
            "Epoch 1470/1500 Loss 0.12611\n",
            "Epoch 1480/1500 Loss 0.12553\n",
            "Epoch 1490/1500 Loss 0.12496\n",
            "Epoch 1500/1500 Loss 0.12439\n"
          ]
        },
        {
          "output_type": "execute_result",
          "data": {
            "text/plain": [
              "0.976"
            ]
          },
          "metadata": {},
          "execution_count": 17
        }
      ],
      "source": [
        "D_in, H, D_out = 784, 100, 10\n",
        "\n",
        "model = torch.nn.Sequential(\n",
        "    torch.nn.Linear(D_in, H),\n",
        "    torch.nn.ReLU(),\n",
        "    torch.nn.Linear(H, D_out),\n",
        ").to(\"cuda\")\n",
        "\n",
        "criterion = torch.nn.CrossEntropyLoss()\n",
        "optimizer = torch.optim.SGD(model.parameters(), lr=0.8)\n",
        "\n",
        "epochs = 1500\n",
        "log_each = 10\n",
        "l = []\n",
        "model.train()\n",
        "for e in range(1, epochs+1):\n",
        "\n",
        "    # forward\n",
        "    y_pred = model(X_t)\n",
        "\n",
        "    # loss\n",
        "    loss = criterion(y_pred, Y_t)\n",
        "    l.append(loss.item())\n",
        "\n",
        "    # ponemos a cero los gradientes\n",
        "    optimizer.zero_grad()\n",
        "\n",
        "    # Backprop (calculamos todos los gradientes automáticamente)\n",
        "    loss.backward()\n",
        "\n",
        "    # update de los pesos\n",
        "    optimizer.step()\n",
        "\n",
        "    if not e % log_each:\n",
        "        print(f\"Epoch {e}/{epochs} Loss {np.mean(l):.5f}\")\n",
        "\n",
        "y_pred = evaluate(torch.from_numpy(X_test).float().cuda())\n",
        "accuracy_score(y_test, y_pred.cpu().numpy())"
      ]
    },
    {
      "cell_type": "markdown",
      "metadata": {
        "heading_collapsed": true,
        "id": "ipyuFlAIm6xV"
      },
      "source": [
        "## Modelos custom"
      ]
    },
    {
      "cell_type": "markdown",
      "metadata": {
        "hidden": true,
        "id": "_uh7djQTm6xV"
      },
      "source": [
        "Si bien en muchos casos definir una `red neuronal` como una secuencia de capas es suficiente, en otros casos será un factor limitante. Un ejemplo son las redes residuales, en las que no sólo utilizamos la salida de una capa para alimentar la siguiente si no que, además, le sumamos su propia entrada. Este tipo de arquitectura no puede ser definida con la clase `Sequential`, y para ello necesitamos hacer un modelo *customizado*. Para ello, `Pytroch` nos ofrece la siguiente sintaxis."
      ]
    },
    {
      "cell_type": "code",
      "execution_count": null,
      "metadata": {
        "ExecuteTime": {
          "end_time": "2020-08-15T12:22:08.642713Z",
          "start_time": "2020-08-15T12:22:08.628592Z"
        },
        "hidden": true,
        "id": "zP6-77c5m6xW"
      },
      "outputs": [],
      "source": [
        "# creamos una clase que hereda de `torch.nn.Module`\n",
        "\n",
        "class ModeloPersonalizado(torch.nn.Module):\n",
        "\n",
        "    # constructor\n",
        "    def __init__(self, D_in, H, D_out):\n",
        "\n",
        "        # llamamos al constructor de la clase madre\n",
        "        super(ModeloPersonalizado, self).__init__()\n",
        "\n",
        "        # definimos nuestras capas\n",
        "        self.fc1 = torch.nn.Linear(D_in, H)\n",
        "        self.relu = torch.nn.ReLU()\n",
        "        self.fc2 = torch.nn.Linear(H, D_out)\n",
        "\n",
        "    # lógica para calcular las salidas de la red\n",
        "    def forward(self, x):\n",
        "        x = self.fc1(x)\n",
        "        x = self.relu(x)\n",
        "        x = self.fc2(x)\n",
        "        return x"
      ]
    },
    {
      "cell_type": "markdown",
      "metadata": {
        "hidden": true,
        "id": "2jwizXIgm6xW"
      },
      "source": [
        "En primer lugar, necesitamos definir una nueva clase que herede de la clase `torch.nn.Module`. Esta clase madre aportará toda la funcionalidad esencial que necesita una `red neuronal` (soporte GPU, iterar por sus parámeteros, etc). Luego, en esta clase necesitamos definir mínimos dos funciones:\n",
        "\n",
        "- `init`: en el constructor llamaremos al constructor de la clase madre y después definiremos todas las capas que querramos usar en la red.\n",
        "- `forward`: en esta función definimos toda la lógica que aplicaremos desde que recibimos los inputs hasta que devolvemos los outputs.\n",
        "\n",
        "En el ejemplo anterior simplemente hemos replicado la misma red (puedes conseguir el mismo efecto usando la clase `Sequential`)."
      ]
    },
    {
      "cell_type": "code",
      "execution_count": null,
      "metadata": {
        "ExecuteTime": {
          "end_time": "2020-08-15T12:22:08.658711Z",
          "start_time": "2020-08-15T12:22:08.644712Z"
        },
        "hidden": true,
        "id": "zhaXSvoVm6xW",
        "colab": {
          "base_uri": "https://localhost:8080/"
        },
        "outputId": "badedf4f-4266-4cd1-aab6-4964f14ab456"
      },
      "outputs": [
        {
          "output_type": "stream",
          "name": "stdout",
          "text": [
            "tensor([[-0.9555, -0.4134,  0.0208,  ...,  1.0999,  0.6025,  1.9015],\n",
            "        [-1.0949, -2.8468,  0.9335,  ...,  0.5056, -1.8322,  0.4758],\n",
            "        [ 0.1603,  0.0248,  0.2974,  ..., -0.2047,  2.2994, -1.5774],\n",
            "        ...,\n",
            "        [ 0.1713, -0.4712,  0.4067,  ..., -0.1814,  0.8939,  1.0035],\n",
            "        [-1.7229, -0.7686,  0.3269,  ..., -0.4310,  0.3240, -3.4103],\n",
            "        [ 0.5819,  0.1190,  0.3799,  ..., -1.5761,  0.7148, -1.6947]])\n"
          ]
        },
        {
          "output_type": "execute_result",
          "data": {
            "text/plain": [
              "torch.Size([500, 10])"
            ]
          },
          "metadata": {},
          "execution_count": 43
        }
      ],
      "source": [
        "model = ModeloPersonalizado(784, 100, 10)\n",
        "# Codigo para saber si el modelo esta votando los datos en las cantidades correctas\n",
        "x_prueba = torch.randn(500, 784)\n",
        "print(x_prueba)\n",
        "outputs = model(x_prueba)\n",
        "outputs.shape"
      ]
    },
    {
      "cell_type": "markdown",
      "metadata": {
        "hidden": true,
        "id": "_RkPO5hum6xW"
      },
      "source": [
        "Ahora, podemos entrenar nuestra red de la misma forma que lo hemos hecho anteriormente."
      ]
    },
    {
      "cell_type": "code",
      "execution_count": null,
      "metadata": {
        "ExecuteTime": {
          "end_time": "2020-08-15T12:22:09.941710Z",
          "start_time": "2020-08-15T12:22:08.659711Z"
        },
        "hidden": true,
        "id": "idh4YMn6m6xX",
        "colab": {
          "base_uri": "https://localhost:8080/"
        },
        "outputId": "d8101d3f-34ba-4433-c261-390d6b0592dc"
      },
      "outputs": [
        {
          "output_type": "stream",
          "name": "stdout",
          "text": [
            "Epoch 10/100 Loss 1.77221\n",
            "Epoch 20/100 Loss 1.53883\n",
            "Epoch 30/100 Loss 1.26340\n",
            "Epoch 40/100 Loss 1.07572\n",
            "Epoch 50/100 Loss 0.94111\n",
            "Epoch 60/100 Loss 0.84378\n",
            "Epoch 70/100 Loss 0.76844\n",
            "Epoch 80/100 Loss 0.70951\n",
            "Epoch 90/100 Loss 0.66208\n",
            "Epoch 100/100 Loss 0.62237\n"
          ]
        },
        {
          "output_type": "execute_result",
          "data": {
            "text/plain": [
              "0.928"
            ]
          },
          "metadata": {},
          "execution_count": 20
        }
      ],
      "source": [
        "model.to(\"cuda\")\n",
        "criterion = torch.nn.CrossEntropyLoss()\n",
        "optimizer = torch.optim.SGD(model.parameters(), lr=0.8)\n",
        "\n",
        "epochs = 100\n",
        "log_each = 10\n",
        "l = []\n",
        "model.train()\n",
        "for e in range(1, epochs+1):\n",
        "\n",
        "    # forward\n",
        "    y_pred = model(X_t)\n",
        "\n",
        "    # loss\n",
        "    loss = criterion(y_pred, Y_t)\n",
        "    l.append(loss.item())\n",
        "\n",
        "    # ponemos a cero los gradientes\n",
        "    optimizer.zero_grad()\n",
        "\n",
        "    # Backprop (calculamos todos los gradientes automáticamente)\n",
        "    loss.backward()\n",
        "\n",
        "    # update de los pesos\n",
        "    optimizer.step()\n",
        "\n",
        "    if not e % log_each:\n",
        "        print(f\"Epoch {e}/{epochs} Loss {np.mean(l):.5f}\")\n",
        "\n",
        "y_pred = evaluate(torch.from_numpy(X_test).float().cuda())\n",
        "accuracy_score(y_test, y_pred.cpu().numpy())"
      ]
    },
    {
      "cell_type": "markdown",
      "metadata": {
        "hidden": true,
        "id": "Rh3bxMrmm6xX"
      },
      "source": [
        "Aquí puedes ver otro ejemplo de como definir un `MLP` con conexiones residuales, algo que no podemos hacer simplemente usando un modelo secuencial."
      ]
    },
    {
      "cell_type": "code",
      "execution_count": null,
      "metadata": {
        "ExecuteTime": {
          "end_time": "2020-08-15T12:22:09.956710Z",
          "start_time": "2020-08-15T12:22:09.942710Z"
        },
        "hidden": true,
        "id": "l-6qAZn1m6xX"
      },
      "outputs": [],
      "source": [
        "class ModelCustom2(torch.nn.Module):\n",
        "\n",
        "    def __init__(self, D_in, H, D_out):\n",
        "        super(ModelCustom2, self).__init__()\n",
        "        self.fc1 = torch.nn.Linear(D_in, H)\n",
        "        self.relu = torch.nn.ReLU()\n",
        "        self.fc2 = torch.nn.Linear(H, D_out)\n",
        "\n",
        "    def forward(self, x):\n",
        "        x1 = self.fc1(x)\n",
        "        x = self.relu(x1)\n",
        "        x = self.fc2(x + x1)\n",
        "        return x"
      ]
    },
    {
      "cell_type": "code",
      "execution_count": null,
      "metadata": {
        "ExecuteTime": {
          "end_time": "2020-08-15T12:22:11.314772Z",
          "start_time": "2020-08-15T12:22:09.958712Z"
        },
        "hidden": true,
        "id": "EaSLokO7m6xX",
        "colab": {
          "base_uri": "https://localhost:8080/"
        },
        "outputId": "7afdc9f5-56d4-4ecd-d480-215235511ca8"
      },
      "outputs": [
        {
          "output_type": "stream",
          "name": "stdout",
          "text": [
            "Epoch 10/100 Loss 1.61990\n",
            "Epoch 20/100 Loss 1.18053\n",
            "Epoch 30/100 Loss 0.96668\n",
            "Epoch 40/100 Loss 0.87062\n",
            "Epoch 50/100 Loss 0.78109\n",
            "Epoch 60/100 Loss 0.71820\n",
            "Epoch 70/100 Loss 0.67372\n",
            "Epoch 80/100 Loss 0.63546\n",
            "Epoch 90/100 Loss 0.60382\n",
            "Epoch 100/100 Loss 0.57755\n"
          ]
        },
        {
          "output_type": "execute_result",
          "data": {
            "text/plain": [
              "0.9108"
            ]
          },
          "metadata": {},
          "execution_count": 22
        }
      ],
      "source": [
        "model = ModelCustom2(784, 100, 10).to(\"cuda\")\n",
        "criterion = torch.nn.CrossEntropyLoss()\n",
        "optimizer = torch.optim.SGD(model.parameters(), lr=0.2)\n",
        "\n",
        "epochs = 100\n",
        "log_each = 10\n",
        "l = []\n",
        "model.train()\n",
        "for e in range(1, epochs+1):\n",
        "\n",
        "    # forward\n",
        "    y_pred = model(X_t)\n",
        "\n",
        "    # loss\n",
        "    loss = criterion(y_pred, Y_t)\n",
        "    l.append(loss.item())\n",
        "\n",
        "    # ponemos a cero los gradientes\n",
        "    optimizer.zero_grad()\n",
        "\n",
        "    # Backprop (calculamos todos los gradientes automáticamente)\n",
        "    loss.backward()\n",
        "\n",
        "    # update de los pesos\n",
        "    optimizer.step()\n",
        "\n",
        "    if not e % log_each:\n",
        "        print(f\"Epoch {e}/{epochs} Loss {np.mean(l):.5f}\")\n",
        "\n",
        "y_pred = evaluate(torch.from_numpy(X_test).float().cuda())\n",
        "accuracy_score(y_test, y_pred.cpu().numpy())"
      ]
    },
    {
      "cell_type": "markdown",
      "metadata": {
        "hidden": true,
        "id": "sgoJC4nIm6xY"
      },
      "source": [
        "De esta manera, tenemos mucha flexibilidad para definir nuestras redes."
      ]
    },
    {
      "cell_type": "markdown",
      "metadata": {
        "heading_collapsed": true,
        "id": "s1ZrxJsJm6xY"
      },
      "source": [
        "## Accediendo a las capas de una red"
      ]
    },
    {
      "cell_type": "markdown",
      "metadata": {
        "hidden": true,
        "id": "TC470LoYm6xY"
      },
      "source": [
        "En ocasiones queremos acceder a una capa en particular de nuestra red. Para ello, podemos acceder utilizando su nombre."
      ]
    },
    {
      "cell_type": "code",
      "execution_count": null,
      "metadata": {
        "ExecuteTime": {
          "end_time": "2020-08-15T12:22:11.329809Z",
          "start_time": "2020-08-15T12:22:11.316772Z"
        },
        "hidden": true,
        "id": "K5VAtILVm6xY",
        "colab": {
          "base_uri": "https://localhost:8080/"
        },
        "outputId": "bce3c854-447a-45cc-dfa5-f4db7b85ec52"
      },
      "outputs": [
        {
          "output_type": "execute_result",
          "data": {
            "text/plain": [
              "ModelCustom2(\n",
              "  (fc1): Linear(in_features=784, out_features=100, bias=True)\n",
              "  (relu): ReLU()\n",
              "  (fc2): Linear(in_features=100, out_features=10, bias=True)\n",
              ")"
            ]
          },
          "metadata": {},
          "execution_count": 23
        }
      ],
      "source": [
        "model"
      ]
    },
    {
      "cell_type": "code",
      "execution_count": null,
      "metadata": {
        "ExecuteTime": {
          "end_time": "2020-08-15T12:22:11.345809Z",
          "start_time": "2020-08-15T12:22:11.332809Z"
        },
        "hidden": true,
        "id": "_EfUdON5m6xY",
        "colab": {
          "base_uri": "https://localhost:8080/"
        },
        "outputId": "e409a9b8-42d4-4101-ca1e-0fb6d981d1a8"
      },
      "outputs": [
        {
          "output_type": "execute_result",
          "data": {
            "text/plain": [
              "Linear(in_features=784, out_features=100, bias=True)"
            ]
          },
          "metadata": {},
          "execution_count": 24
        }
      ],
      "source": [
        "model.fc1"
      ]
    },
    {
      "cell_type": "markdown",
      "metadata": {
        "hidden": true,
        "id": "5vXjUwhmm6xZ"
      },
      "source": [
        "También podemos acceder directamente a los tensores que contienen los parámetros con las propiedades adecuadas"
      ]
    },
    {
      "cell_type": "code",
      "execution_count": null,
      "metadata": {
        "ExecuteTime": {
          "end_time": "2020-08-15T12:22:11.360809Z",
          "start_time": "2020-08-15T12:22:11.346809Z"
        },
        "hidden": true,
        "id": "C6Wy_6cXm6xZ",
        "colab": {
          "base_uri": "https://localhost:8080/"
        },
        "outputId": "ecabdebe-a7c7-46a8-f132-0b90ed503517"
      },
      "outputs": [
        {
          "output_type": "execute_result",
          "data": {
            "text/plain": [
              "Parameter containing:\n",
              "tensor([[ 0.0286,  0.0047, -0.0349,  ..., -0.0220,  0.0276, -0.0311],\n",
              "        [-0.0034,  0.0025, -0.0113,  ..., -0.0299,  0.0035, -0.0332],\n",
              "        [ 0.0155,  0.0121,  0.0241,  ...,  0.0043, -0.0202,  0.0162],\n",
              "        ...,\n",
              "        [-0.0061,  0.0156,  0.0068,  ..., -0.0301,  0.0255,  0.0275],\n",
              "        [-0.0247, -0.0235, -0.0240,  ...,  0.0296, -0.0268,  0.0025],\n",
              "        [ 0.0307, -0.0045,  0.0036,  ...,  0.0007, -0.0042,  0.0281]],\n",
              "       device='cuda:0', requires_grad=True)"
            ]
          },
          "metadata": {},
          "execution_count": 25
        }
      ],
      "source": [
        "model.fc1.weight"
      ]
    },
    {
      "cell_type": "code",
      "execution_count": null,
      "metadata": {
        "ExecuteTime": {
          "end_time": "2020-08-15T12:22:11.375809Z",
          "start_time": "2020-08-15T12:22:11.361809Z"
        },
        "hidden": true,
        "id": "5TbpHDGKm6xZ",
        "colab": {
          "base_uri": "https://localhost:8080/"
        },
        "outputId": "ab4b4ee5-bdda-4a41-c2cd-1daab0d8ee0d"
      },
      "outputs": [
        {
          "output_type": "execute_result",
          "data": {
            "text/plain": [
              "Parameter containing:\n",
              "tensor([ 0.0132, -0.0469,  0.0579, -0.0061,  0.0288,  0.0308,  0.0268, -0.0632,\n",
              "        -0.0221,  0.0825,  0.0223,  0.0274,  0.0107, -0.0335, -0.0315, -0.0444,\n",
              "         0.0047,  0.0432, -0.0019, -0.0073, -0.0321,  0.0277, -0.0113,  0.0872,\n",
              "         0.0851,  0.0554,  0.0549, -0.0228, -0.0323, -0.0163,  0.0045,  0.0323,\n",
              "        -0.0176,  0.0337, -0.0084,  0.0364,  0.0456, -0.0343, -0.0397,  0.0622,\n",
              "         0.0294,  0.0085, -0.0032, -0.0219,  0.0458,  0.0049,  0.0190,  0.0207,\n",
              "         0.0243, -0.0145, -0.0561,  0.0012,  0.0216, -0.0144,  0.0462, -0.0336,\n",
              "         0.0759, -0.0034,  0.0003,  0.0103, -0.0055,  0.0236, -0.0201,  0.0549,\n",
              "         0.0065, -0.0110,  0.0447,  0.0171,  0.0103,  0.0581, -0.0040, -0.0082,\n",
              "         0.0332,  0.0201,  0.0597,  0.0298,  0.0566, -0.0082,  0.0096, -0.0394,\n",
              "         0.0169,  0.0231, -0.0275, -0.0226, -0.0060, -0.0241,  0.0432,  0.0602,\n",
              "         0.0305, -0.0648, -0.0134,  0.0300,  0.0254,  0.0121,  0.0283,  0.0126,\n",
              "        -0.0269,  0.0253,  0.0216,  0.0665], device='cuda:0',\n",
              "       requires_grad=True)"
            ]
          },
          "metadata": {},
          "execution_count": 26
        }
      ],
      "source": [
        "model.fc1.bias"
      ]
    },
    {
      "cell_type": "markdown",
      "metadata": {
        "hidden": true,
        "id": "oqraljgym6xZ"
      },
      "source": [
        "Es posible sobreescribir una capa de la siguiente manera"
      ]
    },
    {
      "cell_type": "code",
      "execution_count": null,
      "metadata": {
        "ExecuteTime": {
          "end_time": "2020-08-15T12:22:11.391810Z",
          "start_time": "2020-08-15T12:22:11.376809Z"
        },
        "hidden": true,
        "id": "xIwyV17em6xZ",
        "colab": {
          "base_uri": "https://localhost:8080/"
        },
        "outputId": "94f9bb72-1167-4563-c4f1-55ab7371de0a"
      },
      "outputs": [
        {
          "output_type": "execute_result",
          "data": {
            "text/plain": [
              "ModelCustom2(\n",
              "  (fc1): Linear(in_features=784, out_features=100, bias=True)\n",
              "  (relu): ReLU()\n",
              "  (fc2): Linear(in_features=100, out_features=1, bias=True)\n",
              ")"
            ]
          },
          "metadata": {},
          "execution_count": 27
        }
      ],
      "source": [
        "model.fc2 = torch.nn.Linear(100, 1)\n",
        "\n",
        "model"
      ]
    },
    {
      "cell_type": "markdown",
      "metadata": {
        "hidden": true,
        "id": "eVLw3r9im6xZ"
      },
      "source": [
        "Ahora, la capa final de nuestra red tiene solo una salida. Esta nueva capa ha sido inicializada de manera aleatoria, por lo que esta nueva red no nos va a servir de mucho. Sin embargo, podríamos volver a entrenar esta red en otro problema en el que solo necesitemos una salida aprovechando los pesos que ya hemos entrenado anteriormente con el dataset MNIST. Esto es la base del *transfer learning*, una técnica que utilizaremos muchísimo más adelante y la cual explicaremos en detalle.\n",
        "\n",
        "A continuación encontrarás varios trucos a la hora de crear redes neuronales a partir de otras que te pueden resultar útiles."
      ]
    },
    {
      "cell_type": "code",
      "execution_count": null,
      "metadata": {
        "ExecuteTime": {
          "end_time": "2020-08-15T12:22:11.406809Z",
          "start_time": "2020-08-15T12:22:11.393812Z"
        },
        "hidden": true,
        "id": "JfE83wXtm6xZ",
        "colab": {
          "base_uri": "https://localhost:8080/"
        },
        "outputId": "439a40cd-ff76-4c2d-dcde-5812441a8d96"
      },
      "outputs": [
        {
          "output_type": "execute_result",
          "data": {
            "text/plain": [
              "[Linear(in_features=784, out_features=100, bias=True),\n",
              " ReLU(),\n",
              " Linear(in_features=100, out_features=1, bias=True)]"
            ]
          },
          "metadata": {},
          "execution_count": 28
        }
      ],
      "source": [
        "# obtener una lista con las capas de una red\n",
        "\n",
        "list(model.children())"
      ]
    },
    {
      "cell_type": "code",
      "execution_count": null,
      "metadata": {
        "ExecuteTime": {
          "end_time": "2020-08-15T12:22:11.422810Z",
          "start_time": "2020-08-15T12:22:11.408810Z"
        },
        "hidden": true,
        "id": "wkaUklFHm6xa",
        "colab": {
          "base_uri": "https://localhost:8080/"
        },
        "outputId": "02cb45f8-76d9-4735-ea71-e92cb8ac19cb"
      },
      "outputs": [
        {
          "output_type": "execute_result",
          "data": {
            "text/plain": [
              "Sequential(\n",
              "  (0): Linear(in_features=784, out_features=100, bias=True)\n",
              ")"
            ]
          },
          "metadata": {},
          "execution_count": 29
        }
      ],
      "source": [
        "# crear nueva red a partir de la lista (excluyendo las útlimas dos capa)\n",
        "\n",
        "new_model = torch.nn.Sequential(*list(model.children())[:-2])\n",
        "new_model"
      ]
    },
    {
      "cell_type": "code",
      "execution_count": null,
      "metadata": {
        "ExecuteTime": {
          "end_time": "2020-08-15T12:22:11.438809Z",
          "start_time": "2020-08-15T12:22:11.424811Z"
        },
        "hidden": true,
        "id": "AcGFOSU5m6xa",
        "colab": {
          "base_uri": "https://localhost:8080/"
        },
        "outputId": "ccc5b36e-fb4a-4644-dd6c-3da1f56b22af"
      },
      "outputs": [
        {
          "output_type": "execute_result",
          "data": {
            "text/plain": [
              "ModuleList(\n",
              "  (0): Linear(in_features=784, out_features=100, bias=True)\n",
              "  (1): ReLU()\n",
              ")"
            ]
          },
          "metadata": {},
          "execution_count": 30
        }
      ],
      "source": [
        "# crear nueva red a partir de la lista (excluyendo las útlima capa)\n",
        "\n",
        "new_model = torch.nn.ModuleList(list(model.children())[:-1])\n",
        "new_model"
      ]
    },
    {
      "cell_type": "markdown",
      "metadata": {
        "id": "2IanjDRkm6xa"
      },
      "source": [
        "## Resumen"
      ]
    },
    {
      "cell_type": "markdown",
      "metadata": {
        "id": "PwR1F8c9m6xa"
      },
      "source": [
        "En este post hemos visto la funcionalidad que `Pytorch` nos ofrece a la hora de definir y entrenar nuestras `redes neuronales`. El paquete `torch.nn` contiene todo lo necesario para diseñar nuestros modelos, ya sea de manera secuencial o con una clase *custom* para arquitecturas más complicadas. También nos da muchas funciones de pérdida que podemos usar directamente para entrenar las redes. Te recomiendo encarecidamente que le eches un vistazo a la [documentación](https://pytorch.org/docs/stable/nn.html) par hacerte una idea de todo lo que puedes hacer. También hemos visto como el paquete `torch.optim` nos oferece algoritmos de optimización que también nos hacen la vida más fácil a la hora de entrenar nuestras redes."
      ]
    }
  ],
  "metadata": {
    "kernelspec": {
      "display_name": "Python 3",
      "name": "python3"
    },
    "language_info": {
      "codemirror_mode": {
        "name": "ipython",
        "version": 3
      },
      "file_extension": ".py",
      "mimetype": "text/x-python",
      "name": "python",
      "nbconvert_exporter": "python",
      "pygments_lexer": "ipython3",
      "version": "3.8.3"
    },
    "toc": {
      "base_numbering": 1,
      "nav_menu": {},
      "number_sections": true,
      "sideBar": true,
      "skip_h1_title": false,
      "title_cell": "Table of Contents",
      "title_sidebar": "Contents",
      "toc_cell": false,
      "toc_position": {
        "height": "calc(100% - 180px)",
        "left": "10px",
        "top": "150px",
        "width": "233.594px"
      },
      "toc_section_display": true,
      "toc_window_display": false
    },
    "colab": {
      "provenance": [],
      "gpuType": "T4",
      "include_colab_link": true
    },
    "accelerator": "GPU"
  },
  "nbformat": 4,
  "nbformat_minor": 0
}