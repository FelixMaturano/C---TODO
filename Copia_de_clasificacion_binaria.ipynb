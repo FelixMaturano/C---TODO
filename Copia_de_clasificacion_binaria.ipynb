{
  "nbformat": 4,
  "nbformat_minor": 0,
  "metadata": {
    "kernelspec": {
      "display_name": "Python 3",
      "language": "python",
      "name": "python3"
    },
    "language_info": {
      "codemirror_mode": {
        "name": "ipython",
        "version": 3
      },
      "file_extension": ".py",
      "mimetype": "text/x-python",
      "name": "python",
      "nbconvert_exporter": "python",
      "pygments_lexer": "ipython3",
      "version": "3.7.3"
    },
    "toc": {
      "base_numbering": 1,
      "nav_menu": {},
      "number_sections": true,
      "sideBar": true,
      "skip_h1_title": false,
      "title_cell": "Table of Contents",
      "title_sidebar": "Contents",
      "toc_cell": false,
      "toc_position": {},
      "toc_section_display": true,
      "toc_window_display": false
    },
    "colab": {
      "provenance": [],
      "include_colab_link": true
    }
  },
  "cells": [
    {
      "cell_type": "markdown",
      "metadata": {
        "id": "view-in-github",
        "colab_type": "text"
      },
      "source": [
        "<a href=\"https://colab.research.google.com/github/FelixMaturano/C---TODO/blob/master/Copia_de_clasificacion_binaria.ipynb\" target=\"_parent\"><img src=\"https://colab.research.google.com/assets/colab-badge.svg\" alt=\"Open In Colab\"/></a>"
      ]
    },
    {
      "cell_type": "markdown",
      "metadata": {
        "id": "XH3r-ouHOiRi"
      },
      "source": [
        "[![Open In Colab](https://colab.research.google.com/assets/colab-badge.svg)](https://colab.research.google.com/github/sensioai/blog/blob/master/014_clasificacion_binaria/clasificacion_binaria.ipynb)"
      ]
    },
    {
      "cell_type": "markdown",
      "metadata": {
        "id": "I9WKW_DAOiRk"
      },
      "source": [
        "# Clasificación Binaria"
      ]
    },
    {
      "cell_type": "markdown",
      "metadata": {
        "id": "03tkUac8OiRk"
      },
      "source": [
        "En un [post](https://sensioai.com/blog/012_perceptron1) anterior aprendimos a implementar nuestro primer algoritmo de `Machine Learning`: el `Perceptrón`.\n",
        "\n",
        "![](https://www.researchgate.net/profile/Shibani_Singh2/publication/321141639/figure/fig2/AS:572731935727616@1513561342872/Schematic-of-Rosenblatts-perceptron.png)\n",
        "\n",
        "Este modelo está inspirado en el funcionamiento de las neuronas biológicas que forman las redes neuronales de nuestros cerebros, recibiendo una serie de señales de entrada y devolviendo un resultado a la salida, calculando una suma ponderada de todos los *inputs* y aplicando una función de activación.\n",
        "\n",
        "$$ \\hat{y} = f(\\mathbf{w} \\cdot \\mathbf{x}) = f(w_0 + w_1 x_1 + ... + w_m x_m) $$\n",
        "\n",
        "También vimos cómo aplicar este sencillo algoritmo para la tarea de regresión lineal, en la que el objetivo es dar un valor numérico real a partir de una serie de características de entrada. Aprendimos que podemos encontrar los pesos $\\mathbf{w}$ de nuestro modelo utilizando el algoritmo de optimización conocido como `descenso por gradiente` en el que minimizamos una `función de pérdida`. En este post vamos a ver una nueva aplicación del `Perceptrón`: `clasificación binaria`. En esta tarea nuestro objetivo es dar como resultado si una muestra pertenece a una clase en particular o no a partir de sus características."
      ]
    },
    {
      "cell_type": "markdown",
      "metadata": {
        "id": "KEozPg_cOiRk"
      },
      "source": [
        "> 💡 Para el problema de regresión lineal usamos el ejemplo de predicción de precios de inmuebles a partir de características como el número de habitaciones o los metros cuadrados. En el caso de clasificación binaria podemos pensar en un sistema de ayuda al diagnóstico médico en el que nuestro modelo tiene que decirnos si un paciente tiene una enfermedad o no a partir de valores como su edad, peso, temperatura, síntomas, etc."
      ]
    },
    {
      "cell_type": "markdown",
      "metadata": {
        "ExecuteTime": {
          "end_time": "2020-06-30T12:28:55.593967Z",
          "start_time": "2020-06-30T12:28:55.580968Z"
        },
        "id": "5ls6K0rzOiRl"
      },
      "source": [
        "## Función de Activación"
      ]
    },
    {
      "cell_type": "markdown",
      "metadata": {
        "id": "99lYERYdOiRl"
      },
      "source": [
        "Para el problema de regresión lineal vimos que tenemos que utilizar una función de activación lineal, de manera que nuestro modelo sea capaz de dar como resultado cualquier valor real entre $- \\infty$ y $\\infty$. En el caso de la clasificación binaria queremos que nuestro modelo sólo nos de dos valores: $0$ ó $1$. Para ello utilizamos la función de activación `step`.\n",
        "\n",
        "$$ \\hat{y} = \\mathrm{step}(\\mathbf{w} \\cdot \\mathbf{x}) = \\mathrm{step}(w_0 + w_1 x_1 + ... + w_m x_m) $$\n",
        "\n",
        "dónde la función `step` da como resultado $0$ si $\\mathbf{w} \\cdot \\mathbf{x} \\leq 0$ o bien $1$ si $\\mathbf{w} \\cdot \\mathbf{x} > 0$."
      ]
    },
    {
      "cell_type": "code",
      "metadata": {
        "ExecuteTime": {
          "end_time": "2020-08-02T13:06:39.378923Z",
          "start_time": "2020-08-02T13:06:38.912253Z"
        },
        "scrolled": true,
        "id": "NRePGOZjOiRl",
        "outputId": "8fc8da85-acfa-437a-9f4e-8ad329cbc0ac",
        "colab": {
          "base_uri": "https://localhost:8080/",
          "height": 478
        }
      },
      "source": [
        "import numpy as np\n",
        "import matplotlib.pyplot as plt\n",
        "\n",
        "x = np.linspace(-10, 10, 1000)\n",
        "y = x > 0\n",
        "\n",
        "plt.plot(x, y)\n",
        "plt.grid(True)\n",
        "plt.xlabel('x', fontsize=14)\n",
        "plt.ylabel('f(x) = step(x)', fontsize=14)\n",
        "plt.title('Función de activación', fontsize=14)\n",
        "plt.plot(x, np.full(len(x), 0.5), '--k')\n",
        "plt.show()"
      ],
      "execution_count": 1,
      "outputs": [
        {
          "output_type": "display_data",
          "data": {
            "text/plain": [
              "<Figure size 640x480 with 1 Axes>"
            ],
            "image/png": "[encoded data removed]"
          },
          "metadata": {}
        }
      ]
    },
    {
      "cell_type": "markdown",
      "metadata": {
        "ExecuteTime": {
          "end_time": "2020-06-30T12:38:32.136072Z",
          "start_time": "2020-06-30T12:38:32.131071Z"
        },
        "id": "1Z2tINTQOiRm"
      },
      "source": [
        "## El Dataset"
      ]
    },
    {
      "cell_type": "markdown",
      "metadata": {
        "id": "yK-cct4wOiRm"
      },
      "source": [
        "Vamos ahora a ver cómo entrenar nuestro `Preceptrón` para clasificación binaria. Para ello, primero necesitamos un conjunto de datos formado por un número determinado de elementos con varias características acompañados de sus correspondiente clase (o etiqueta). En este post vamos a utilizar un dataset muy utilizado en el ámbito académico muy útil para aprender a desarrollar modelos de clasificación: El dataset [Iris](https://archive.ics.uci.edu/ml/datasets/iris). Este dataset contiene ejemplos de flores que tendremos que clasificar en 3 grupos diferentes a partir del ancho y longitud de sus pétalos y sépalos (en total 4 características). Este dataset está disponible a través de la librería [Scikit Learn](https://scikit-learn.org/stable/), sobre la que hablaremos más adelante."
      ]
    },
    {
      "cell_type": "code",
      "metadata": {
        "ExecuteTime": {
          "end_time": "2020-08-02T13:06:39.756870Z",
          "start_time": "2020-08-02T13:06:39.388340Z"
        },
        "id": "D67gMRraOiRn",
        "outputId": "1ee50559-58c0-4f7c-87ca-7c0487dd3f75",
        "colab": {
          "base_uri": "https://localhost:8080/"
        }
      },
      "source": [
        "from sklearn.datasets import load_iris\n",
        "\n",
        "iris = load_iris()\n",
        "X = iris.data[:, (2, 3)]  # petal length, petal width\n",
        "y = iris.target\n",
        "\n",
        "X.shape, y.shape"
      ],
      "execution_count": 2,
      "outputs": [
        {
          "output_type": "execute_result",
          "data": {
            "text/plain": [
              "((150, 2), (150,))"
            ]
          },
          "metadata": {},
          "execution_count": 2
        }
      ]
    },
    {
      "cell_type": "code",
      "metadata": {
        "ExecuteTime": {
          "end_time": "2020-08-02T13:06:39.974380Z",
          "start_time": "2020-08-02T13:06:39.759471Z"
        },
        "id": "tXyFTuuPOiRn",
        "outputId": "fdd4a19b-36ef-4c11-b229-ed20a802feec",
        "colab": {
          "base_uri": "https://localhost:8080/",
          "height": 478
        }
      },
      "source": [
        "plt.plot(X[y==0, 0], X[y==0, 1], 's', label=\"Iris Setosa\")\n",
        "plt.plot(X[y==1, 0], X[y==1, 1], 'x', label=\"Iris Versicolor\")\n",
        "plt.plot(X[y==2, 0], X[y==2, 1], 'o', label=\"Iris Virginica\")\n",
        "plt.grid()\n",
        "plt.legend()\n",
        "plt.xlabel('petal length', fontsize=14)\n",
        "plt.ylabel('petal width', fontsize=14)\n",
        "plt.title(\"Iris dataset\", fontsize=14)\n",
        "plt.show()"
      ],
      "execution_count": 3,
      "outputs": [
        {
          "output_type": "display_data",
          "data": {
            "text/plain": [
              "<Figure size 640x480 with 1 Axes>"
            ],
            "image/png": "[encoded data removed]"
          },
          "metadata": {}
        }
      ]
    },
    {
      "cell_type": "markdown",
      "metadata": {
        "id": "Jc9PbS61OiRn"
      },
      "source": [
        "Para poder llevar a cabo visualizaciones ilustrativas, vamos a trabajar sólo con dos de las cuatro características: la longitud y ancho del pétalo. Cómo puedes observar, el dataset está compuesto por 150 flores. Cada flor tiene su correspondiente etiqueta, y hay 3 clases en total. En este ejemplo, al querer llevar a cabo una tarea de clasificación binaria, vamos a juntar dos de las clases para trabajar con solo una de ellas."
      ]
    },
    {
      "cell_type": "code",
      "metadata": {
        "ExecuteTime": {
          "end_time": "2020-08-02T13:06:39.983424Z",
          "start_time": "2020-08-02T13:06:39.977168Z"
        },
        "id": "4AHdDrbbOiRo",
        "outputId": "165543c5-4306-4324-a037-49ff0d1ddbd8",
        "colab": {
          "base_uri": "https://localhost:8080/",
          "height": 332
        }
      },
      "source": [
        "y = (iris.target == 0).astype(np.int)"
      ],
      "execution_count": 4,
      "outputs": [
        {
          "output_type": "error",
          "ename": "AttributeError",
          "evalue": "module 'numpy' has no attribute 'int'.\n`np.int` was a deprecated alias for the builtin `int`. To avoid this error in existing code, use `int` by itself. Doing this will not modify any behavior and is safe. When replacing `np.int`, you may wish to use e.g. `np.int64` or `np.int32` to specify the precision. If you wish to review your current use, check the release note link for additional information.\nThe aliases was originally deprecated in NumPy 1.20; for more details and guidance see the original release note at:\n    https://numpy.org/devdocs/release/1.20.0-notes.html#deprecations",
          "traceback": [
            "\u001b[0;31m---------------------------------------------------------------------------\u001b[0m",
            "\u001b[0;31mAttributeError\u001b[0m                            Traceback (most recent call last)",
            "\u001b[0;32m<ipython-input-4-568fdf940d76>\u001b[0m in \u001b[0;36m<cell line: 0>\u001b[0;34m()\u001b[0m\n\u001b[0;32m----> 1\u001b[0;31m \u001b[0my\u001b[0m \u001b[0;34m=\u001b[0m \u001b[0;34m(\u001b[0m\u001b[0miris\u001b[0m\u001b[0;34m.\u001b[0m\u001b[0mtarget\u001b[0m \u001b[0;34m==\u001b[0m \u001b[0;36m0\u001b[0m\u001b[0;34m)\u001b[0m\u001b[0;34m.\u001b[0m\u001b[0mastype\u001b[0m\u001b[0;34m(\u001b[0m\u001b[0mnp\u001b[0m\u001b[0;34m.\u001b[0m\u001b[0mint\u001b[0m\u001b[0;34m)\u001b[0m\u001b[0;34m\u001b[0m\u001b[0;34m\u001b[0m\u001b[0m\n\u001b[0m",
            "\u001b[0;32m/usr/local/lib/python3.11/dist-packages/numpy/__init__.py\u001b[0m in \u001b[0;36m__getattr__\u001b[0;34m(attr)\u001b[0m\n\u001b[1;32m    322\u001b[0m \u001b[0;34m\u001b[0m\u001b[0m\n\u001b[1;32m    323\u001b[0m         \u001b[0;32mif\u001b[0m \u001b[0mattr\u001b[0m \u001b[0;32min\u001b[0m \u001b[0m__former_attrs__\u001b[0m\u001b[0;34m:\u001b[0m\u001b[0;34m\u001b[0m\u001b[0;34m\u001b[0m\u001b[0m\n\u001b[0;32m--> 324\u001b[0;31m             \u001b[0;32mraise\u001b[0m \u001b[0mAttributeError\u001b[0m\u001b[0;34m(\u001b[0m\u001b[0m__former_attrs__\u001b[0m\u001b[0;34m[\u001b[0m\u001b[0mattr\u001b[0m\u001b[0;34m]\u001b[0m\u001b[0;34m)\u001b[0m\u001b[0;34m\u001b[0m\u001b[0;34m\u001b[0m\u001b[0m\n\u001b[0m\u001b[1;32m    325\u001b[0m \u001b[0;34m\u001b[0m\u001b[0m\n\u001b[1;32m    326\u001b[0m         \u001b[0;32mif\u001b[0m \u001b[0mattr\u001b[0m \u001b[0;34m==\u001b[0m \u001b[0;34m'testing'\u001b[0m\u001b[0;34m:\u001b[0m\u001b[0;34m\u001b[0m\u001b[0;34m\u001b[0m\u001b[0m\n",
            "\u001b[0;31mAttributeError\u001b[0m: module 'numpy' has no attribute 'int'.\n`np.int` was a deprecated alias for the builtin `int`. To avoid this error in existing code, use `int` by itself. Doing this will not modify any behavior and is safe. When replacing `np.int`, you may wish to use e.g. `np.int64` or `np.int32` to specify the precision. If you wish to review your current use, check the release note link for additional information.\nThe aliases was originally deprecated in NumPy 1.20; for more details and guidance see the original release note at:\n    https://numpy.org/devdocs/release/1.20.0-notes.html#deprecations"
          ]
        }
      ]
    },
    {
      "cell_type": "code",
      "metadata": {
        "ExecuteTime": {
          "end_time": "2020-08-02T13:06:40.226957Z",
          "start_time": "2020-08-02T13:06:39.987077Z"
        },
        "id": "_YQAcsPiOiRo"
      },
      "source": [
        "plt.plot(X[y==1, 0], X[y==1, 1], 's', label=\"Iris Setosa\")\n",
        "plt.plot(X[y==0, 0], X[y==0, 1], 'x', label=\"No Iris Setosa\")\n",
        "plt.grid()\n",
        "plt.legend()\n",
        "plt.xlabel('petal length', fontsize=14)\n",
        "plt.ylabel('petal width', fontsize=14)\n",
        "plt.title(\"Iris dataset\", fontsize=14)\n",
        "plt.show()"
      ],
      "execution_count": null,
      "outputs": []
    },
    {
      "cell_type": "markdown",
      "metadata": {
        "id": "fBSXXHhVOiRo"
      },
      "source": [
        "Así pues, nuestro objetivo será el de entrenar un `Perceptrón` que sea capaz de distinguir entre flores de tipo `Iris Setosa` y `No Iris Setosa` a partir del ancho y longitud de sus pétalos (clasificación binaria). Para ello utilizaremos exactamente el mismo algoritmo de entrenamiento que ya conocemos de posts anteriores: el algoritmo de `descenso por gradiente`."
      ]
    },
    {
      "cell_type": "markdown",
      "metadata": {
        "id": "B0NKtOIXOiRo"
      },
      "source": [
        "## Entrenando el Perceptrón"
      ]
    },
    {
      "cell_type": "markdown",
      "metadata": {
        "id": "4NBwA7OZOiRo"
      },
      "source": [
        "Utilizamos el algoritmo de descenso por gradiente para encontrar los pesos de nuestro perceptrón que nos permitan llevar a cabo nuestra tarea. Si no estás familiarizado con este algoritmo, te recomiendo que eches un vistazo a los posts anteriores en los que desarrollamos el algoritmo. A continuación puedes ver la implementación de un `Perceptrón` para llevar a cabo nuestra tarea."
      ]
    },
    {
      "cell_type": "code",
      "metadata": {
        "ExecuteTime": {
          "end_time": "2020-08-02T13:06:40.242490Z",
          "start_time": "2020-08-02T13:06:40.234069Z"
        },
        "id": "ZqUCRimfOiRp"
      },
      "source": [
        "class Perceptron():\n",
        "  def __init__(self, size):\n",
        "    self.w = np.random.randn(size)\n",
        "    self.ws = []\n",
        "\n",
        "  def __call__(self, w, x):\n",
        "    return np.dot(x, w) > 0\n",
        "\n",
        "  def fit(self, x, y, epochs, lr):\n",
        "    x = np.c_[np.ones(len(x)), x]\n",
        "    for epoch in range(epochs):\n",
        "        # Batch Gradient Descent\n",
        "        y_hat = self(self.w, x)\n",
        "        # función de pérdida (MSE)\n",
        "        l = 0.5*(y_hat - y)**2\n",
        "        # derivadas\n",
        "        dldh = (y_hat - y)\n",
        "        dhdw = x\n",
        "        dldw = np.dot(dldh, dhdw)\n",
        "        # actualizar pesos\n",
        "        self.w = self.w - lr*dldw\n",
        "        # guardar pesos para animación\n",
        "        self.ws.append(self.w.copy())"
      ],
      "execution_count": null,
      "outputs": []
    },
    {
      "cell_type": "markdown",
      "metadata": {
        "id": "jb08m62KOiRp"
      },
      "source": [
        "Vamos a ver qué hace nuestra clase `Perceptrón` función a función:\n",
        "\n",
        "- `__init__`: Este es el constructor de la clase, estará encargado de inicializar los pesos del modelo, $\\mathbf{w}$. Al estar trabajando con dos características, necesitaremos 3 pesos: $w_0$, el bias, y $w_1$ y $w_2$, los pesos que multiplicarán el ancho y longitud del peso respectivamente.\n",
        "- `__call__`: Esta es la función que calculará la salida del perceptrón, $\\hat{y}$, a partir de las entradas, $\\mathbf{x}$. Este valor será $0$ o $1$ dependiendo del signo de la suma ponderada de los valores de entrada con los pesos del modelo.\n",
        "- `fit`: Esta es la función que entrenará el modelo (el nombre *fit* es bastante utilizado en las librerías de `machine learning` para referirse al proceso de entrenamiento). En ella aplicaremos el algoritmo de descenso por gradiente:\n",
        "    1. Calculamos la salida del modelo\n",
        "    2. Calculamos la derivada de la función de pérdida con respecto a los pesos del modelo\n",
        "    3. Actualizamos los pesos en la dirección negativa de la derivada para reducir el error.\n",
        "    4. Repetimos hasta convergencia (o en este caso por un número determinado de iteraciones, o *epochs*)."
      ]
    },
    {
      "cell_type": "markdown",
      "metadata": {
        "id": "ze6twULYOiRp"
      },
      "source": [
        "> ⚡ Date cuenta que en la función `fit` añadimos una columna de unos al principio de la matriz $x$. Nuestros pesos están definidos en el vector $\\mathbf{w} = [w_0, w_1, w_2]$ sin embargo los datos están en $\\mathbf{x} = [x_1, x_2]$ en el que cada columna representa una de las características. Para poder llevar a cabo la operación $\\mathbf{w} \\cdot \\mathbf{x}$ aplicando el término del *bias* tenemos que añadir esta columna extra, $\\mathbf{x} = [1, x_1, x_2]$, de manera que $\\mathbf{w} \\cdot \\mathbf{x} = w_0 + w_1 x_1 + w_2 x_2$."
      ]
    },
    {
      "cell_type": "markdown",
      "metadata": {
        "id": "0g3m6SQROiRq"
      },
      "source": [
        "Ahora podemos entrenar nuestro perceptrón."
      ]
    },
    {
      "cell_type": "code",
      "metadata": {
        "ExecuteTime": {
          "end_time": "2020-08-02T13:06:40.256198Z",
          "start_time": "2020-08-02T13:06:40.247284Z"
        },
        "id": "b3VvSbbIOiRq"
      },
      "source": [
        "np.random.seed(42)\n",
        "\n",
        "perceptron = Perceptron(3)\n",
        "epochs, lr = 10, 0.01\n",
        "perceptron.fit(X, y, epochs, lr)"
      ],
      "execution_count": null,
      "outputs": []
    },
    {
      "cell_type": "code",
      "metadata": {
        "ExecuteTime": {
          "end_time": "2020-08-02T13:06:40.733850Z",
          "start_time": "2020-08-02T13:06:40.260132Z"
        },
        "code_folding": [
          8
        ],
        "id": "wBIeLd4MOiRq"
      },
      "source": [
        "from matplotlib import animation, rc\n",
        "from matplotlib.colors import ListedColormap\n",
        "\n",
        "custom_cmap = ListedColormap(['#9898ff', '#fafab0'])\n",
        "rc('animation', html='html5')\n",
        "\n",
        "fig = plt.figure(figsize=(8, 5))\n",
        "ax = fig.add_subplot(111, autoscale_on=False)\n",
        "def plot(i, axes = [0, 5, 0, 2], label=\"Iris Setosa\"):\n",
        "    ax.clear()\n",
        "    w = perceptron.ws[i]\n",
        "    tit = ax.set_title(f\"Epoch {i+1}\", fontsize=14)\n",
        "    x0, x1 = np.meshgrid(\n",
        "            np.linspace(axes[0], axes[1], 500).reshape(-1, 1),\n",
        "            np.linspace(axes[2], axes[3], 200).reshape(-1, 1),\n",
        "        )\n",
        "    X_new = np.c_[x0.ravel(), x1.ravel()]\n",
        "    X_new = np.c_[np.ones(len(X_new)), X_new]\n",
        "    y_predict = perceptron(w, X_new)\n",
        "    zz = y_predict.reshape(x0.shape)\n",
        "    ax.plot(X[y==0, 0], X[y==0, 1], \"bs\", label=f\"No {label}\")\n",
        "    ax.plot(X[y==1, 0], X[y==1, 1], \"yo\", label=label)\n",
        "    ax.contourf(x0, x1, zz, cmap=custom_cmap)\n",
        "    ax.set_xlabel(\"Petal length\", fontsize=14)\n",
        "    ax.set_ylabel(\"Petal width\", fontsize=14)\n",
        "    ax.legend(loc=\"lower right\", fontsize=14)\n",
        "    ax.axis(axes)\n",
        "    return ax\n",
        "\n",
        "anim = animation.FuncAnimation(fig, plot, frames=epochs, interval=200)\n",
        "plt.close()\n",
        "anim"
      ],
      "execution_count": null,
      "outputs": []
    },
    {
      "cell_type": "markdown",
      "metadata": {
        "id": "WTz5sb8WOiRq"
      },
      "source": [
        "Cómo puedes observar, los valores iniciales de los pesos del modelo no son capaces de separar ambas clases ya que esta inicialización es aleatoria. Sin embargo, en cada iteración, vamos actualizando los pesos aumentando el número de flores que el modelo clasifica correctamente hasta llegar a separar completamente las dos clases. En este punto nuestro modelo ya está entrenado y podemos utilizarlo para saber a que clase pertenece una flor a partir de la longitud y ancho de sus pétalos."
      ]
    },
    {
      "cell_type": "code",
      "metadata": {
        "ExecuteTime": {
          "end_time": "2020-08-02T13:06:40.757736Z",
          "start_time": "2020-08-02T13:06:40.744307Z"
        },
        "id": "Eb-8xEUZOiRq"
      },
      "source": [
        "# últimos pesos encontrados\n",
        "\n",
        "w = perceptron.ws[-1]\n",
        "w"
      ],
      "execution_count": null,
      "outputs": []
    },
    {
      "cell_type": "code",
      "metadata": {
        "ExecuteTime": {
          "end_time": "2020-08-02T13:06:40.770986Z",
          "start_time": "2020-08-02T13:06:40.761821Z"
        },
        "id": "eE_VoZJLOiRr"
      },
      "source": [
        "x_new = [1, 2, 0.5]\n",
        "y_pred = perceptron(w, x_new)\n",
        "y_pred # Iris Setosa"
      ],
      "execution_count": null,
      "outputs": []
    },
    {
      "cell_type": "code",
      "metadata": {
        "ExecuteTime": {
          "end_time": "2020-08-02T13:06:40.810101Z",
          "start_time": "2020-08-02T13:06:40.791263Z"
        },
        "id": "ceihrEKqOiRr"
      },
      "source": [
        "x_new = [1, 4, 0.5]\n",
        "y_pred = perceptron(w, x_new)\n",
        "y_pred # No Iris Setosa"
      ],
      "execution_count": null,
      "outputs": []
    },
    {
      "cell_type": "markdown",
      "metadata": {
        "id": "JcLIsNtiOiRr"
      },
      "source": [
        "## Normalización"
      ]
    },
    {
      "cell_type": "markdown",
      "metadata": {
        "id": "4hoi7R5ZOiRr"
      },
      "source": [
        "En el ejemplo anterior hemos utilizado el dataset tal cual nos lo da la librería Scikit Learn. Algunos algoritmos, sin embargo, funcionan mejor cuando los datos que utilizamos están normalizados. El `Perceptrón` es uno de estos algoritmos. Podemos normalizar los datos de varias formas, las más comunes son las siguientes:"
      ]
    },
    {
      "cell_type": "code",
      "metadata": {
        "ExecuteTime": {
          "end_time": "2020-08-02T13:06:40.848064Z",
          "start_time": "2020-08-02T13:06:40.834462Z"
        },
        "id": "y0pfgUIfOiRr"
      },
      "source": [
        "# Normalizamos entre 0 y 1\n",
        "\n",
        "print(X.max(axis=0), X.min(axis=0))\n",
        "\n",
        "X_norm = (X - X.min(axis=0))/(X.max(axis=0)-X.min(axis=0))\n",
        "\n",
        "print(X_norm.max(axis=0), X_norm.min(axis=0))"
      ],
      "execution_count": null,
      "outputs": []
    },
    {
      "cell_type": "code",
      "metadata": {
        "ExecuteTime": {
          "end_time": "2020-08-02T13:06:40.866663Z",
          "start_time": "2020-08-02T13:06:40.852088Z"
        },
        "id": "WcKvKiOkOiRs"
      },
      "source": [
        "# Normalizamos con valor medio 0 y desviación estándar 1\n",
        "\n",
        "print(X.mean(axis=0), X.std(axis=0))\n",
        "\n",
        "X_mean, X_std = X.mean(axis=0), X.std(axis=0)\n",
        "X_norm = (X - X_mean) / X_std\n",
        "\n",
        "print(X_norm.mean(axis=0), X_norm.std(axis=0))"
      ],
      "execution_count": null,
      "outputs": []
    },
    {
      "cell_type": "markdown",
      "metadata": {
        "id": "xcm3CzAVOiRs"
      },
      "source": [
        "Ambas alternativas pueden funcionar, en esta caso usaremos la normalización con valor medio $0$ y desviación estándar $1$."
      ]
    },
    {
      "cell_type": "code",
      "metadata": {
        "ExecuteTime": {
          "end_time": "2020-08-02T13:06:40.884339Z",
          "start_time": "2020-08-02T13:06:40.872574Z"
        },
        "id": "sN9vyvqvOiRs"
      },
      "source": [
        "np.random.seed(42)\n",
        "\n",
        "perceptron = Perceptron(3)\n",
        "epochs, lr = 20, 0.1\n",
        "perceptron.fit(X_norm, y, epochs, lr)"
      ],
      "execution_count": null,
      "outputs": []
    },
    {
      "cell_type": "code",
      "metadata": {
        "ExecuteTime": {
          "end_time": "2020-08-02T13:06:41.360160Z",
          "start_time": "2020-08-02T13:06:40.891013Z"
        },
        "code_folding": [
          2
        ],
        "id": "sfZ8pEiCOiRs"
      },
      "source": [
        "fig = plt.figure(figsize=(8, 5))\n",
        "ax = fig.add_subplot(111, autoscale_on=False)\n",
        "def plot(i, axes = [0, 5, 0, 2], label=\"Iris Setosa\"):\n",
        "    ax.clear()\n",
        "    w = perceptron.ws[i]\n",
        "    tit = ax.set_title(f\"Epoch {i+1}\", fontsize=14)\n",
        "    x0, x1 = np.meshgrid(\n",
        "            np.linspace(axes[0], axes[1], 500).reshape(-1, 1),\n",
        "            np.linspace(axes[2], axes[3], 200).reshape(-1, 1),\n",
        "        )\n",
        "    X_new = (np.c_[x0.ravel(), x1.ravel()] - X_mean)/X_std\n",
        "    X_new = np.c_[np.ones(len(X_new)), X_new]\n",
        "    y_predict = perceptron(w, X_new)\n",
        "    zz = y_predict.reshape(x0.shape)\n",
        "    ax.plot(X[y==0, 0], X[y==0, 1], \"bs\", label=f\"No {label}\")\n",
        "    ax.plot(X[y==1, 0], X[y==1, 1], \"yo\", label=label)\n",
        "    ax.contourf(x0, x1, zz, cmap=custom_cmap)\n",
        "    ax.set_xlabel(\"Petal length\", fontsize=14)\n",
        "    ax.set_ylabel(\"Petal width\", fontsize=14)\n",
        "    ax.legend(loc=\"lower right\", fontsize=14)\n",
        "    ax.axis(axes)\n",
        "    return ax\n",
        "\n",
        "anim = animation.FuncAnimation(fig, plot, frames=epochs, interval=200)\n",
        "plt.close()\n",
        "anim"
      ],
      "execution_count": null,
      "outputs": []
    },
    {
      "cell_type": "markdown",
      "metadata": {
        "id": "U-wIw7wqOiRs"
      },
      "source": [
        "## Limitaciones"
      ]
    },
    {
      "cell_type": "markdown",
      "metadata": {
        "id": "bsOg1kdaOiRs"
      },
      "source": [
        "De la misma forma que vimos cómo el `Perceptrón` falla en la tarea de regresión lineal con datos no lineales, observamos el mismo problema en el caso de la clasificación binaria. En el ejemplo anterior nuestros datos se podían separar fácilmente mediante una línea recta. En los casos en los que esto no sea posible (lo cual ocurrirá prácticamente siempre), nuestro `Perceptrón` no será suficiente y necesitaremos modelos más complejos. Vamos a ver esta limitación para intentar separar flores de tipo `Iris Versicolor` del resto."
      ]
    },
    {
      "cell_type": "code",
      "metadata": {
        "ExecuteTime": {
          "end_time": "2020-08-02T13:06:41.585712Z",
          "start_time": "2020-08-02T13:06:41.363654Z"
        },
        "id": "oFqmIMnmOiRt"
      },
      "source": [
        "X = iris.data[:, (2, 3)]  # petal length, petal width\n",
        "y = (iris.target == 1).astype(np.int)\n",
        "\n",
        "plt.plot(X[y==0, 0], X[y==0, 1], 's', label=\"No Iris Versicolor\")\n",
        "plt.plot(X[y==1, 0], X[y==1, 1], 'x', label=\"Iris Versicolor\")\n",
        "plt.grid()\n",
        "plt.legend()\n",
        "plt.xlabel('petal length', fontsize=14)\n",
        "plt.ylabel('petal width', fontsize=14)\n",
        "plt.title(\"Iris dataset\", fontsize=14)\n",
        "plt.show()"
      ],
      "execution_count": null,
      "outputs": []
    },
    {
      "cell_type": "code",
      "metadata": {
        "ExecuteTime": {
          "end_time": "2020-08-02T13:06:41.598806Z",
          "start_time": "2020-08-02T13:06:41.589501Z"
        },
        "id": "Y1TlWfsuOiRt"
      },
      "source": [
        "X_norm = (X - X.min(axis=0))/(X.max(axis=0)-X.min(axis=0))\n",
        "np.random.seed(20)\n",
        "\n",
        "perceptron = Perceptron(3)\n",
        "epochs, lr = 40, 0.01\n",
        "perceptron.fit(X_norm, y, epochs, lr)"
      ],
      "execution_count": null,
      "outputs": []
    },
    {
      "cell_type": "code",
      "metadata": {
        "ExecuteTime": {
          "end_time": "2020-08-02T13:06:42.054132Z",
          "start_time": "2020-08-02T13:06:41.601205Z"
        },
        "code_folding": [
          2
        ],
        "id": "wDmzmEhXOiRt"
      },
      "source": [
        "fig = plt.figure(figsize=(8, 5))\n",
        "ax = fig.add_subplot(111, autoscale_on=False)\n",
        "def plot(i, axes = [0.5, 7.3, 0, 2.8], label=\"Iris Versicolor\"):\n",
        "    ax.clear()\n",
        "    w = perceptron.ws[i]\n",
        "    tit = ax.set_title(f\"Epoch {i+1}\", fontsize=14)\n",
        "    x0, x1 = np.meshgrid(\n",
        "            np.linspace(axes[0], axes[1], 500).reshape(-1, 1),\n",
        "            np.linspace(axes[2], axes[3], 200).reshape(-1, 1),\n",
        "        )\n",
        "    X_new = (np.c_[x0.ravel(), x1.ravel()] - X_mean)/X_std\n",
        "    X_new = np.c_[np.ones(len(X_new)), X_new]\n",
        "    y_predict = perceptron(w, X_new)\n",
        "    zz = y_predict.reshape(x0.shape)\n",
        "    ax.plot(X[y==0, 0], X[y==0, 1], \"bs\", label=f\"No {label}\")\n",
        "    ax.plot(X[y==1, 0], X[y==1, 1], \"yo\", label=label)\n",
        "    ax.contourf(x0, x1, zz, cmap=custom_cmap)\n",
        "    ax.set_xlabel(\"Petal length\", fontsize=14)\n",
        "    ax.set_ylabel(\"Petal width\", fontsize=14)\n",
        "    ax.legend(loc=\"lower right\", fontsize=14)\n",
        "    ax.axis(axes)\n",
        "    return ax\n",
        "\n",
        "anim = animation.FuncAnimation(fig, plot, frames=epochs, interval=200)\n",
        "plt.close()\n",
        "anim"
      ],
      "execution_count": null,
      "outputs": []
    },
    {
      "cell_type": "markdown",
      "metadata": {
        "id": "I17ucU1aOiRt"
      },
      "source": [
        "Al no se capaz de separar la clase concreta del resto mediante una línea recta, el modelo no es capaz de converger y observamos este comportamiento errático."
      ]
    },
    {
      "cell_type": "markdown",
      "metadata": {
        "ExecuteTime": {
          "end_time": "2020-06-30T13:53:19.967464Z",
          "start_time": "2020-06-30T13:53:19.952466Z"
        },
        "id": "Zf7mj2HzOiRt"
      },
      "source": [
        "## Resumen"
      ]
    },
    {
      "cell_type": "markdown",
      "metadata": {
        "id": "jxcI08hcOiRt"
      },
      "source": [
        "En este post hemos visto cómo aplicar el modelo `Perceptrón` a la tarea de clasificación binaria. Para ello hemos utilizado una función de activación de tipo *step* que nos siempre nos dará un resultado a la salida del modelo de $0$ o $1$. Para ilustrar el funcionamiento de este modelo utilizamos el dataset *Iris* que contiene información de flores para su clasificación en función de varias características. Este dataset es muy útil para aprender sobre `Machine Learning` y lo usaremos a menudo de ahora en adelante. Hemos implementado nuestra propia clase `Perceptrón` que contiene la funcionalidad básica que necesitamos para nuestra tarea de clasificación binaria. En futuros posts iremos mejorando esta implementación para ampliar su funcionalidad. También hemos visto que normalizar nuestros datos será beneficioso para el proceso de entrenamiento. Por último, hemos visto que cuando no podamos separar nuestros datos mediante una línea recta, nuestro modelo simple no será suficiente y necesitaremos modelos más sofisticados.  "
      ]
    },
    {
      "cell_type": "code",
      "metadata": {
        "id": "bAo7x4INOiRt"
      },
      "source": [],
      "execution_count": null,
      "outputs": []
    }
  ]
}