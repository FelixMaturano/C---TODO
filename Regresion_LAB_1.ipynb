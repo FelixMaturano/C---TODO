{
  "nbformat": 4,
  "nbformat_minor": 0,
  "metadata": {
    "colab": {
      "provenance": [],
      "authorship_tag": "ABX9TyNth2BhymmnLCUIL4cAkU4k",
      "include_colab_link": true
    },
    "kernelspec": {
      "name": "python3",
      "display_name": "Python 3"
    },
    "language_info": {
      "name": "python"
    }
  },
  "cells": [
    {
      "cell_type": "markdown",
      "metadata": {
        "id": "view-in-github",
        "colab_type": "text"
      },
      "source": [
        "<a href=\"https://colab.research.google.com/github/FelixMaturano/C---TODO/blob/master/Regresion_LAB_1.ipynb\" target=\"_parent\"><img src=\"https://colab.research.google.com/assets/colab-badge.svg\" alt=\"Open In Colab\"/></a>"
      ]
    },
    {
      "cell_type": "markdown",
      "source": [
        "# LABORATORIO_1 SIS 420\n",
        "_Nombre_: Felix Maturano Zarate\n",
        "#CU:111-531\n",
        "Carrera: Ing. Ciencias de la Computación\n"
      ],
      "metadata": {
        "id": "u1IrhCx4rhkv"
      }
    },
    {
      "cell_type": "markdown",
      "source": [
        "# Ejercicio de programacion Regresion Lineal\n",
        "En este cuadernillo, se realizará un análisis de regresión lineal utilizando un dataset proporcionado (Advertising.csv). El objetivo es ajustar un modelo de regresión lineal y evaluar su rendimiento a través de la minimización del costo. El dataset contiene información sobre inversiones en publicidad y sus efectos en las ventas."
      ],
      "metadata": {
        "id": "d4HlLq2CvdpD"
      }
    },
    {
      "cell_type": "code",
      "execution_count": null,
      "metadata": {
        "id": "WJKPdFxTvAlp"
      },
      "outputs": [],
      "source": [
        "# utilizando para manejos de directorios y rutas\n",
        "import os\n",
        "\n",
        "# Computacion vectorial y cientifica para python\n",
        "import numpy as np\n",
        "\n",
        "# Librerias para graficacion (trazado de graficos)\n",
        "from matplotlib import pyplot\n",
        "from mpl_toolkits.mplot3d import Axes3D # Necesario pra graficar superficies 3D\n",
        "import matplotlib.pyplot as plt\n",
        "\n",
        "# Llama a matplotlib a embeber graficos dentro de los cuadernillos\n",
        "%matplotlib inline\n",
        "\n",
        "from sklearn.model_selection import train_test_split  # Asegurarse de que esta línea esté incluida"
      ]
    },
    {
      "cell_type": "markdown",
      "source": [
        "# 1 Regresion lineal con una variable\n",
        "# Dataset: Publicidad y Ventas\n",
        "El archivo 'Advertising.csv' contiene el dataset para el problema de regresion lineal multiple. Este dataset incluye informacion sobre la inversion en publicidad y su impacto en la ventas. Las columnas del dataset son las siguientes:\n",
        "  1. TV: inversion en publicidad en radio(en miles de dolares)\n",
        "  2. Radio: Inversión en publicidad en radio (en miles de dólares).\n",
        "  3. Newspaper: Inversión en publicidad en periódicos (en miles de dólares).\n",
        "  4. Sales: Ventas del producto (en miles de unidades).\n",
        "  Este dataset su puede utilizar para predecir las ventas basadas en las inversiones en diferentes medios publicitarios."
      ],
      "metadata": {
        "id": "k6SO1o4KwnhC"
      }
    },
    {
      "cell_type": "markdown",
      "source": [
        "#Cargar el Dataset\n",
        "Montamos Google Drive para acceder al archivo del dataset."
      ],
      "metadata": {
        "id": "dbtBrh74hbWF"
      }
    },
    {
      "cell_type": "code",
      "source": [
        "from google.colab import drive\n",
        "drive.mount('/content/drive')"
      ],
      "metadata": {
        "colab": {
          "base_uri": "https://localhost:8080/"
        },
        "id": "NikkUBTBz6qk",
        "outputId": "41157824-9033-4935-b80a-71c8857fd44e"
      },
      "execution_count": null,
      "outputs": [
        {
          "output_type": "stream",
          "name": "stdout",
          "text": [
            "Mounted at /content/drive\n"
          ]
        }
      ]
    },
    {
      "cell_type": "code",
      "source": [
        "import pandas as pd\n",
        "\n",
        "# Leer datos separados por una coma usando pandas\n",
        "data = pd.read_csv('/content/drive/MyDrive/IA/Advertising.csv')\n",
        "\n",
        "# # Si quieres extraer las columnas como arrays de numpy:\n",
        "# X, y = data.iloc[:, 0].values, data.iloc[:, 1].values  # Extracción usando pandas y conversión a numpy\n",
        "\n",
        "# m = y.size  # m = numero de ejemplos de entrenamiento\n",
        "# Revisar los primeros registros del dataset\n",
        "print(data.head())"
      ],
      "metadata": {
        "colab": {
          "base_uri": "https://localhost:8080/"
        },
        "id": "6r_L3dMR0jNV",
        "outputId": "5e680ca7-7f39-4f25-86b3-26f3b5350c59"
      },
      "execution_count": null,
      "outputs": [
        {
          "output_type": "stream",
          "name": "stdout",
          "text": [
            "   Unnamed: 0     TV  Radio  Newspaper  Sales\n",
            "0           1  230.1   37.8       69.2   22.1\n",
            "1           2   44.5   39.3       45.1   10.4\n",
            "2           3   17.2   45.9       69.3    9.3\n",
            "3           4  151.5   41.3       58.5   18.5\n",
            "4           5  180.8   10.8       58.4   12.9\n"
          ]
        }
      ]
    },
    {
      "cell_type": "markdown",
      "source": [
        "# Preprocesamiento de los Datos\n",
        "Separar las caracteristicas (X) y la variable objetivo (y), y normalizar las caracteristicas."
      ],
      "metadata": {
        "id": "jbYHTEesh5v-"
      }
    },
    {
      "cell_type": "code",
      "source": [
        "# Separar las caracteristicas y variable objetivo\n",
        "X = data[['TV', 'Radio', 'Newspaper']].values\n",
        "y = data['Sales'].values\n",
        "m = len(y)  # Número de ejemplos de entrenamiento\n",
        "\n",
        "# Dividir el dataset en conjunto de entrenamiento y prueba\n",
        "X_train, X_test, y_train, y_test = train_test_split(X, y, test_size=0.2, random_state=0)\n",
        "\n",
        "# Normalizar las características usando solo datos de entrenamiento\n",
        "X_train_mean = np.mean(X_train, axis=0)\n",
        "X_train_std = np.std(X_train, axis=0)\n",
        "X_train = (X_train - X_train_mean) / X_train_std\n",
        "X_test = (X_test - X_train_mean) / X_train_std\n",
        "\n",
        "# Agregar una columna de unos para el término de sesgo\n",
        "X_train = np.c_[np.ones(X_train.shape[0]), X_train]\n",
        "X_test = np.c_[np.ones(X_test.shape[0]), X_test]"
      ],
      "metadata": {
        "id": "XgMTIouU3GjD"
      },
      "execution_count": null,
      "outputs": []
    },
    {
      "cell_type": "markdown",
      "source": [
        "# Implementacion de la Regresion Lineal\n",
        "Definir las funciones necesarias para calcular el costo y realizar el descenso por gradiente."
      ],
      "metadata": {
        "id": "sfpwCdEGipDu"
      }
    },
    {
      "cell_type": "code",
      "source": [
        "# Implementación de la Regresión Lineal\n",
        "theta = np.zeros(X_train.shape[1])\n",
        "alpha = 0.01\n",
        "iterations = 1000\n",
        "\n",
        "def compute_cost(X, y, theta):\n",
        "    predictions = X.dot(theta)\n",
        "    cost = (1 / (2 * len(y))) * np.sum(np.square(predictions - y))\n",
        "    return cost\n",
        "\n",
        "def gradient_descent(X, y, theta, alpha, iterations):\n",
        "    costs = []\n",
        "    for _ in range(iterations):\n",
        "        predictions = X.dot(theta)\n",
        "        errors = predictions - y\n",
        "        updates = (alpha / len(y)) * X.T.dot(errors)\n",
        "        theta = theta - updates\n",
        "        cost = compute_cost(X, y, theta)\n",
        "        costs.append(cost)\n",
        "    return theta, costs\n",
        "\n",
        "# Ejecutar el descenso por el gradiente\n",
        "theta, costs = gradient_descent(X_train, y_train, theta, alpha, iterations)"
      ],
      "metadata": {
        "id": "_Vsh6KmrVti9"
      },
      "execution_count": null,
      "outputs": []
    },
    {
      "cell_type": "markdown",
      "source": [
        "# Visualizacion de Resultados\n",
        "Mostrar los parametros ajustados y graficar la convergencia del costo."
      ],
      "metadata": {
        "id": "mMnhrR9RjSmM"
      }
    },
    {
      "cell_type": "code",
      "source": [
        "# Mostrar los parámetros ajustados\n",
        "print(f\"Parámetros ajustados: {theta}\")\n",
        "\n",
        "# Graficar la convergencia del costo\n",
        "plt.plot(range(1, len(costs) + 1), costs, 'b-')\n",
        "plt.xlabel('Número de Iteraciones')\n",
        "plt.ylabel('Costo')\n",
        "plt.title('Convergencia del Costo')\n",
        "plt.show()"
      ],
      "metadata": {
        "colab": {
          "base_uri": "https://localhost:8080/",
          "height": 490
        },
        "id": "HYG8Y0sxV6Ia",
        "outputId": "4e30a455-51b4-4eec-a770-118038c672bc"
      },
      "execution_count": null,
      "outputs": [
        {
          "output_type": "stream",
          "name": "stdout",
          "text": [
            "Parámetros ajustados: [14.21688621  3.77528302  2.88450292 -0.05723291]\n"
          ]
        },
        {
          "output_type": "display_data",
          "data": {
            "text/plain": [
              "<Figure size 640x480 with 1 Axes>"
            ],
            "image/png": "[encoded data removed]"
          },
          "metadata": {}
        }
      ]
    },
    {
      "cell_type": "markdown",
      "source": [
        "# Evaluacion del modelo\n",
        "Usar la division en conjuntos de entrenamiento y prueba para evaluar el modelo."
      ],
      "metadata": {
        "id": "iePIvfQLj5Mm"
      }
    },
    {
      "cell_type": "code",
      "source": [
        "# Evaluar el modelo en el conjunto de prueba\n",
        "predictions = X_test.dot(theta)\n",
        "mse = np.mean(np.square(predictions - y_test))\n",
        "print(f\"Error cuadrático medio en el conjunto de prueba: {mse}\")"
      ],
      "metadata": {
        "colab": {
          "base_uri": "https://localhost:8080/"
        },
        "id": "IXGAQshoX2tn",
        "outputId": "c5ac86bb-1cbc-47c1-be1e-1ea953745999"
      },
      "execution_count": null,
      "outputs": [
        {
          "output_type": "stream",
          "name": "stdout",
          "text": [
            "Error cuadrático medio en el conjunto de prueba: 4.400538927107332\n"
          ]
        }
      ]
    }
  ]
}